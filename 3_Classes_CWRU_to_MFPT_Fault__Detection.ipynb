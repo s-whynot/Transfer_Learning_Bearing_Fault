{
  "nbformat": 4,
  "nbformat_minor": 0,
  "metadata": {
    "colab": {
      "name": "3_Classes_CWRU_to_MFPT_Fault _Detection.ipynb",
      "provenance": [],
      "collapsed_sections": [],
      "toc_visible": true,
      "authorship_tag": "ABX9TyO6DaJzk3AbLDHjLWurJZTw",
      "include_colab_link": true
    },
    "kernelspec": {
      "name": "python3",
      "display_name": "Python 3"
    },
    "accelerator": "GPU",
    "widgets": {
      "application/vnd.jupyter.widget-state+json": {
        "58386a8c16a249ca9f60c8eac45110fd": {
          "model_module": "@jupyter-widgets/controls",
          "model_name": "HBoxModel",
          "state": {
            "_view_name": "HBoxView",
            "_dom_classes": [],
            "_model_name": "HBoxModel",
            "_view_module": "@jupyter-widgets/controls",
            "_model_module_version": "1.5.0",
            "_view_count": null,
            "_view_module_version": "1.5.0",
            "box_style": "",
            "layout": "IPY_MODEL_d78984f76f9b431182be2b22f452d80e",
            "_model_module": "@jupyter-widgets/controls",
            "children": [
              "IPY_MODEL_e0ce83bc9ced49c8bd7072ed105f7e09",
              "IPY_MODEL_697702f510ef4c05a0a364c1f5355d74"
            ]
          }
        },
        "d78984f76f9b431182be2b22f452d80e": {
          "model_module": "@jupyter-widgets/base",
          "model_name": "LayoutModel",
          "state": {
            "_view_name": "LayoutView",
            "grid_template_rows": null,
            "right": null,
            "justify_content": null,
            "_view_module": "@jupyter-widgets/base",
            "overflow": null,
            "_model_module_version": "1.2.0",
            "_view_count": null,
            "flex_flow": null,
            "width": null,
            "min_width": null,
            "border": null,
            "align_items": null,
            "bottom": null,
            "_model_module": "@jupyter-widgets/base",
            "top": null,
            "grid_column": null,
            "overflow_y": null,
            "overflow_x": null,
            "grid_auto_flow": null,
            "grid_area": null,
            "grid_template_columns": null,
            "flex": null,
            "_model_name": "LayoutModel",
            "justify_items": null,
            "grid_row": null,
            "max_height": null,
            "align_content": null,
            "visibility": null,
            "align_self": null,
            "height": null,
            "min_height": null,
            "padding": null,
            "grid_auto_rows": null,
            "grid_gap": null,
            "max_width": null,
            "order": null,
            "_view_module_version": "1.2.0",
            "grid_template_areas": null,
            "object_position": null,
            "object_fit": null,
            "grid_auto_columns": null,
            "margin": null,
            "display": null,
            "left": null
          }
        },
        "e0ce83bc9ced49c8bd7072ed105f7e09": {
          "model_module": "@jupyter-widgets/controls",
          "model_name": "FloatProgressModel",
          "state": {
            "_view_name": "ProgressView",
            "style": "IPY_MODEL_d825c39ba1a54903bc72664e1dd959e6",
            "_dom_classes": [],
            "description": "100%",
            "_model_name": "FloatProgressModel",
            "bar_style": "success",
            "max": 1415,
            "_view_module": "@jupyter-widgets/controls",
            "_model_module_version": "1.5.0",
            "value": 1415,
            "_view_count": null,
            "_view_module_version": "1.5.0",
            "orientation": "horizontal",
            "min": 0,
            "description_tooltip": null,
            "_model_module": "@jupyter-widgets/controls",
            "layout": "IPY_MODEL_8ab5ac67b4c54d7683ebe4fa491636c9"
          }
        },
        "697702f510ef4c05a0a364c1f5355d74": {
          "model_module": "@jupyter-widgets/controls",
          "model_name": "HTMLModel",
          "state": {
            "_view_name": "HTMLView",
            "style": "IPY_MODEL_ede1b80ad0204a64b2e98d29b2fc13a5",
            "_dom_classes": [],
            "description": "",
            "_model_name": "HTMLModel",
            "placeholder": "​",
            "_view_module": "@jupyter-widgets/controls",
            "_model_module_version": "1.5.0",
            "value": " 1415/1415 [00:13&lt;00:00, 101.42it/s]",
            "_view_count": null,
            "_view_module_version": "1.5.0",
            "description_tooltip": null,
            "_model_module": "@jupyter-widgets/controls",
            "layout": "IPY_MODEL_49059623487943ec9f5442c0faa31cf5"
          }
        },
        "d825c39ba1a54903bc72664e1dd959e6": {
          "model_module": "@jupyter-widgets/controls",
          "model_name": "ProgressStyleModel",
          "state": {
            "_view_name": "StyleView",
            "_model_name": "ProgressStyleModel",
            "description_width": "initial",
            "_view_module": "@jupyter-widgets/base",
            "_model_module_version": "1.5.0",
            "_view_count": null,
            "_view_module_version": "1.2.0",
            "bar_color": null,
            "_model_module": "@jupyter-widgets/controls"
          }
        },
        "8ab5ac67b4c54d7683ebe4fa491636c9": {
          "model_module": "@jupyter-widgets/base",
          "model_name": "LayoutModel",
          "state": {
            "_view_name": "LayoutView",
            "grid_template_rows": null,
            "right": null,
            "justify_content": null,
            "_view_module": "@jupyter-widgets/base",
            "overflow": null,
            "_model_module_version": "1.2.0",
            "_view_count": null,
            "flex_flow": null,
            "width": null,
            "min_width": null,
            "border": null,
            "align_items": null,
            "bottom": null,
            "_model_module": "@jupyter-widgets/base",
            "top": null,
            "grid_column": null,
            "overflow_y": null,
            "overflow_x": null,
            "grid_auto_flow": null,
            "grid_area": null,
            "grid_template_columns": null,
            "flex": null,
            "_model_name": "LayoutModel",
            "justify_items": null,
            "grid_row": null,
            "max_height": null,
            "align_content": null,
            "visibility": null,
            "align_self": null,
            "height": null,
            "min_height": null,
            "padding": null,
            "grid_auto_rows": null,
            "grid_gap": null,
            "max_width": null,
            "order": null,
            "_view_module_version": "1.2.0",
            "grid_template_areas": null,
            "object_position": null,
            "object_fit": null,
            "grid_auto_columns": null,
            "margin": null,
            "display": null,
            "left": null
          }
        },
        "ede1b80ad0204a64b2e98d29b2fc13a5": {
          "model_module": "@jupyter-widgets/controls",
          "model_name": "DescriptionStyleModel",
          "state": {
            "_view_name": "StyleView",
            "_model_name": "DescriptionStyleModel",
            "description_width": "",
            "_view_module": "@jupyter-widgets/base",
            "_model_module_version": "1.5.0",
            "_view_count": null,
            "_view_module_version": "1.2.0",
            "_model_module": "@jupyter-widgets/controls"
          }
        },
        "49059623487943ec9f5442c0faa31cf5": {
          "model_module": "@jupyter-widgets/base",
          "model_name": "LayoutModel",
          "state": {
            "_view_name": "LayoutView",
            "grid_template_rows": null,
            "right": null,
            "justify_content": null,
            "_view_module": "@jupyter-widgets/base",
            "overflow": null,
            "_model_module_version": "1.2.0",
            "_view_count": null,
            "flex_flow": null,
            "width": null,
            "min_width": null,
            "border": null,
            "align_items": null,
            "bottom": null,
            "_model_module": "@jupyter-widgets/base",
            "top": null,
            "grid_column": null,
            "overflow_y": null,
            "overflow_x": null,
            "grid_auto_flow": null,
            "grid_area": null,
            "grid_template_columns": null,
            "flex": null,
            "_model_name": "LayoutModel",
            "justify_items": null,
            "grid_row": null,
            "max_height": null,
            "align_content": null,
            "visibility": null,
            "align_self": null,
            "height": null,
            "min_height": null,
            "padding": null,
            "grid_auto_rows": null,
            "grid_gap": null,
            "max_width": null,
            "order": null,
            "_view_module_version": "1.2.0",
            "grid_template_areas": null,
            "object_position": null,
            "object_fit": null,
            "grid_auto_columns": null,
            "margin": null,
            "display": null,
            "left": null
          }
        },
        "3308420714054aaaa231b4a360154fdd": {
          "model_module": "@jupyter-widgets/controls",
          "model_name": "HBoxModel",
          "state": {
            "_view_name": "HBoxView",
            "_dom_classes": [],
            "_model_name": "HBoxModel",
            "_view_module": "@jupyter-widgets/controls",
            "_model_module_version": "1.5.0",
            "_view_count": null,
            "_view_module_version": "1.5.0",
            "box_style": "",
            "layout": "IPY_MODEL_bd9dea4d7fc14008b0a766416f9bb7e9",
            "_model_module": "@jupyter-widgets/controls",
            "children": [
              "IPY_MODEL_900b1ceb233e4d4b88e4c51de0e0a14a",
              "IPY_MODEL_bc6d4fcc3eb346e18af419f2418e18f6"
            ]
          }
        },
        "bd9dea4d7fc14008b0a766416f9bb7e9": {
          "model_module": "@jupyter-widgets/base",
          "model_name": "LayoutModel",
          "state": {
            "_view_name": "LayoutView",
            "grid_template_rows": null,
            "right": null,
            "justify_content": null,
            "_view_module": "@jupyter-widgets/base",
            "overflow": null,
            "_model_module_version": "1.2.0",
            "_view_count": null,
            "flex_flow": null,
            "width": null,
            "min_width": null,
            "border": null,
            "align_items": null,
            "bottom": null,
            "_model_module": "@jupyter-widgets/base",
            "top": null,
            "grid_column": null,
            "overflow_y": null,
            "overflow_x": null,
            "grid_auto_flow": null,
            "grid_area": null,
            "grid_template_columns": null,
            "flex": null,
            "_model_name": "LayoutModel",
            "justify_items": null,
            "grid_row": null,
            "max_height": null,
            "align_content": null,
            "visibility": null,
            "align_self": null,
            "height": null,
            "min_height": null,
            "padding": null,
            "grid_auto_rows": null,
            "grid_gap": null,
            "max_width": null,
            "order": null,
            "_view_module_version": "1.2.0",
            "grid_template_areas": null,
            "object_position": null,
            "object_fit": null,
            "grid_auto_columns": null,
            "margin": null,
            "display": null,
            "left": null
          }
        },
        "900b1ceb233e4d4b88e4c51de0e0a14a": {
          "model_module": "@jupyter-widgets/controls",
          "model_name": "FloatProgressModel",
          "state": {
            "_view_name": "ProgressView",
            "style": "IPY_MODEL_62d8abf7dd284796aa0fca25481a331b",
            "_dom_classes": [],
            "description": "100%",
            "_model_name": "FloatProgressModel",
            "bar_style": "success",
            "max": 1623,
            "_view_module": "@jupyter-widgets/controls",
            "_model_module_version": "1.5.0",
            "value": 1623,
            "_view_count": null,
            "_view_module_version": "1.5.0",
            "orientation": "horizontal",
            "min": 0,
            "description_tooltip": null,
            "_model_module": "@jupyter-widgets/controls",
            "layout": "IPY_MODEL_bd2c8ddda75f4f958e81329e5a8463cf"
          }
        },
        "bc6d4fcc3eb346e18af419f2418e18f6": {
          "model_module": "@jupyter-widgets/controls",
          "model_name": "HTMLModel",
          "state": {
            "_view_name": "HTMLView",
            "style": "IPY_MODEL_639e863b9d0646b98e57af745ae1a45c",
            "_dom_classes": [],
            "description": "",
            "_model_name": "HTMLModel",
            "placeholder": "​",
            "_view_module": "@jupyter-widgets/controls",
            "_model_module_version": "1.5.0",
            "value": " 1623/1623 [00:04&lt;00:00, 394.85it/s]",
            "_view_count": null,
            "_view_module_version": "1.5.0",
            "description_tooltip": null,
            "_model_module": "@jupyter-widgets/controls",
            "layout": "IPY_MODEL_a5140407077843c694de57519f3869a1"
          }
        },
        "62d8abf7dd284796aa0fca25481a331b": {
          "model_module": "@jupyter-widgets/controls",
          "model_name": "ProgressStyleModel",
          "state": {
            "_view_name": "StyleView",
            "_model_name": "ProgressStyleModel",
            "description_width": "initial",
            "_view_module": "@jupyter-widgets/base",
            "_model_module_version": "1.5.0",
            "_view_count": null,
            "_view_module_version": "1.2.0",
            "bar_color": null,
            "_model_module": "@jupyter-widgets/controls"
          }
        },
        "bd2c8ddda75f4f958e81329e5a8463cf": {
          "model_module": "@jupyter-widgets/base",
          "model_name": "LayoutModel",
          "state": {
            "_view_name": "LayoutView",
            "grid_template_rows": null,
            "right": null,
            "justify_content": null,
            "_view_module": "@jupyter-widgets/base",
            "overflow": null,
            "_model_module_version": "1.2.0",
            "_view_count": null,
            "flex_flow": null,
            "width": null,
            "min_width": null,
            "border": null,
            "align_items": null,
            "bottom": null,
            "_model_module": "@jupyter-widgets/base",
            "top": null,
            "grid_column": null,
            "overflow_y": null,
            "overflow_x": null,
            "grid_auto_flow": null,
            "grid_area": null,
            "grid_template_columns": null,
            "flex": null,
            "_model_name": "LayoutModel",
            "justify_items": null,
            "grid_row": null,
            "max_height": null,
            "align_content": null,
            "visibility": null,
            "align_self": null,
            "height": null,
            "min_height": null,
            "padding": null,
            "grid_auto_rows": null,
            "grid_gap": null,
            "max_width": null,
            "order": null,
            "_view_module_version": "1.2.0",
            "grid_template_areas": null,
            "object_position": null,
            "object_fit": null,
            "grid_auto_columns": null,
            "margin": null,
            "display": null,
            "left": null
          }
        },
        "639e863b9d0646b98e57af745ae1a45c": {
          "model_module": "@jupyter-widgets/controls",
          "model_name": "DescriptionStyleModel",
          "state": {
            "_view_name": "StyleView",
            "_model_name": "DescriptionStyleModel",
            "description_width": "",
            "_view_module": "@jupyter-widgets/base",
            "_model_module_version": "1.5.0",
            "_view_count": null,
            "_view_module_version": "1.2.0",
            "_model_module": "@jupyter-widgets/controls"
          }
        },
        "a5140407077843c694de57519f3869a1": {
          "model_module": "@jupyter-widgets/base",
          "model_name": "LayoutModel",
          "state": {
            "_view_name": "LayoutView",
            "grid_template_rows": null,
            "right": null,
            "justify_content": null,
            "_view_module": "@jupyter-widgets/base",
            "overflow": null,
            "_model_module_version": "1.2.0",
            "_view_count": null,
            "flex_flow": null,
            "width": null,
            "min_width": null,
            "border": null,
            "align_items": null,
            "bottom": null,
            "_model_module": "@jupyter-widgets/base",
            "top": null,
            "grid_column": null,
            "overflow_y": null,
            "overflow_x": null,
            "grid_auto_flow": null,
            "grid_area": null,
            "grid_template_columns": null,
            "flex": null,
            "_model_name": "LayoutModel",
            "justify_items": null,
            "grid_row": null,
            "max_height": null,
            "align_content": null,
            "visibility": null,
            "align_self": null,
            "height": null,
            "min_height": null,
            "padding": null,
            "grid_auto_rows": null,
            "grid_gap": null,
            "max_width": null,
            "order": null,
            "_view_module_version": "1.2.0",
            "grid_template_areas": null,
            "object_position": null,
            "object_fit": null,
            "grid_auto_columns": null,
            "margin": null,
            "display": null,
            "left": null
          }
        },
        "9a74e08033c04506b2c39f2b7fec06e7": {
          "model_module": "@jupyter-widgets/controls",
          "model_name": "HBoxModel",
          "state": {
            "_view_name": "HBoxView",
            "_dom_classes": [],
            "_model_name": "HBoxModel",
            "_view_module": "@jupyter-widgets/controls",
            "_model_module_version": "1.5.0",
            "_view_count": null,
            "_view_module_version": "1.5.0",
            "box_style": "",
            "layout": "IPY_MODEL_daac1f9ed42648dc8000297c761d1134",
            "_model_module": "@jupyter-widgets/controls",
            "children": [
              "IPY_MODEL_86addc51868d425996034ec22d5d6a38",
              "IPY_MODEL_a18c3bcd0057418aaa145bfa0b07a39c"
            ]
          }
        },
        "daac1f9ed42648dc8000297c761d1134": {
          "model_module": "@jupyter-widgets/base",
          "model_name": "LayoutModel",
          "state": {
            "_view_name": "LayoutView",
            "grid_template_rows": null,
            "right": null,
            "justify_content": null,
            "_view_module": "@jupyter-widgets/base",
            "overflow": null,
            "_model_module_version": "1.2.0",
            "_view_count": null,
            "flex_flow": null,
            "width": null,
            "min_width": null,
            "border": null,
            "align_items": null,
            "bottom": null,
            "_model_module": "@jupyter-widgets/base",
            "top": null,
            "grid_column": null,
            "overflow_y": null,
            "overflow_x": null,
            "grid_auto_flow": null,
            "grid_area": null,
            "grid_template_columns": null,
            "flex": null,
            "_model_name": "LayoutModel",
            "justify_items": null,
            "grid_row": null,
            "max_height": null,
            "align_content": null,
            "visibility": null,
            "align_self": null,
            "height": null,
            "min_height": null,
            "padding": null,
            "grid_auto_rows": null,
            "grid_gap": null,
            "max_width": null,
            "order": null,
            "_view_module_version": "1.2.0",
            "grid_template_areas": null,
            "object_position": null,
            "object_fit": null,
            "grid_auto_columns": null,
            "margin": null,
            "display": null,
            "left": null
          }
        },
        "86addc51868d425996034ec22d5d6a38": {
          "model_module": "@jupyter-widgets/controls",
          "model_name": "FloatProgressModel",
          "state": {
            "_view_name": "ProgressView",
            "style": "IPY_MODEL_c0c3e9073fe2472daa3f78290a733e9c",
            "_dom_classes": [],
            "description": "100%",
            "_model_name": "FloatProgressModel",
            "bar_style": "success",
            "max": 2848,
            "_view_module": "@jupyter-widgets/controls",
            "_model_module_version": "1.5.0",
            "value": 2848,
            "_view_count": null,
            "_view_module_version": "1.5.0",
            "orientation": "horizontal",
            "min": 0,
            "description_tooltip": null,
            "_model_module": "@jupyter-widgets/controls",
            "layout": "IPY_MODEL_26c7bd753fea468c800ed8befd215176"
          }
        },
        "a18c3bcd0057418aaa145bfa0b07a39c": {
          "model_module": "@jupyter-widgets/controls",
          "model_name": "HTMLModel",
          "state": {
            "_view_name": "HTMLView",
            "style": "IPY_MODEL_fad644d5df0345d4b0575f05bf89a0f8",
            "_dom_classes": [],
            "description": "",
            "_model_name": "HTMLModel",
            "placeholder": "​",
            "_view_module": "@jupyter-widgets/controls",
            "_model_module_version": "1.5.0",
            "value": " 2848/2848 [00:06&lt;00:00, 422.51it/s]",
            "_view_count": null,
            "_view_module_version": "1.5.0",
            "description_tooltip": null,
            "_model_module": "@jupyter-widgets/controls",
            "layout": "IPY_MODEL_4fa462a7450743809eb12ce82e2480a2"
          }
        },
        "c0c3e9073fe2472daa3f78290a733e9c": {
          "model_module": "@jupyter-widgets/controls",
          "model_name": "ProgressStyleModel",
          "state": {
            "_view_name": "StyleView",
            "_model_name": "ProgressStyleModel",
            "description_width": "initial",
            "_view_module": "@jupyter-widgets/base",
            "_model_module_version": "1.5.0",
            "_view_count": null,
            "_view_module_version": "1.2.0",
            "bar_color": null,
            "_model_module": "@jupyter-widgets/controls"
          }
        },
        "26c7bd753fea468c800ed8befd215176": {
          "model_module": "@jupyter-widgets/base",
          "model_name": "LayoutModel",
          "state": {
            "_view_name": "LayoutView",
            "grid_template_rows": null,
            "right": null,
            "justify_content": null,
            "_view_module": "@jupyter-widgets/base",
            "overflow": null,
            "_model_module_version": "1.2.0",
            "_view_count": null,
            "flex_flow": null,
            "width": null,
            "min_width": null,
            "border": null,
            "align_items": null,
            "bottom": null,
            "_model_module": "@jupyter-widgets/base",
            "top": null,
            "grid_column": null,
            "overflow_y": null,
            "overflow_x": null,
            "grid_auto_flow": null,
            "grid_area": null,
            "grid_template_columns": null,
            "flex": null,
            "_model_name": "LayoutModel",
            "justify_items": null,
            "grid_row": null,
            "max_height": null,
            "align_content": null,
            "visibility": null,
            "align_self": null,
            "height": null,
            "min_height": null,
            "padding": null,
            "grid_auto_rows": null,
            "grid_gap": null,
            "max_width": null,
            "order": null,
            "_view_module_version": "1.2.0",
            "grid_template_areas": null,
            "object_position": null,
            "object_fit": null,
            "grid_auto_columns": null,
            "margin": null,
            "display": null,
            "left": null
          }
        },
        "fad644d5df0345d4b0575f05bf89a0f8": {
          "model_module": "@jupyter-widgets/controls",
          "model_name": "DescriptionStyleModel",
          "state": {
            "_view_name": "StyleView",
            "_model_name": "DescriptionStyleModel",
            "description_width": "",
            "_view_module": "@jupyter-widgets/base",
            "_model_module_version": "1.5.0",
            "_view_count": null,
            "_view_module_version": "1.2.0",
            "_model_module": "@jupyter-widgets/controls"
          }
        },
        "4fa462a7450743809eb12ce82e2480a2": {
          "model_module": "@jupyter-widgets/base",
          "model_name": "LayoutModel",
          "state": {
            "_view_name": "LayoutView",
            "grid_template_rows": null,
            "right": null,
            "justify_content": null,
            "_view_module": "@jupyter-widgets/base",
            "overflow": null,
            "_model_module_version": "1.2.0",
            "_view_count": null,
            "flex_flow": null,
            "width": null,
            "min_width": null,
            "border": null,
            "align_items": null,
            "bottom": null,
            "_model_module": "@jupyter-widgets/base",
            "top": null,
            "grid_column": null,
            "overflow_y": null,
            "overflow_x": null,
            "grid_auto_flow": null,
            "grid_area": null,
            "grid_template_columns": null,
            "flex": null,
            "_model_name": "LayoutModel",
            "justify_items": null,
            "grid_row": null,
            "max_height": null,
            "align_content": null,
            "visibility": null,
            "align_self": null,
            "height": null,
            "min_height": null,
            "padding": null,
            "grid_auto_rows": null,
            "grid_gap": null,
            "max_width": null,
            "order": null,
            "_view_module_version": "1.2.0",
            "grid_template_areas": null,
            "object_position": null,
            "object_fit": null,
            "grid_auto_columns": null,
            "margin": null,
            "display": null,
            "left": null
          }
        },
        "e23054ee936e4eb3b4f47c1d69e9a55b": {
          "model_module": "@jupyter-widgets/controls",
          "model_name": "HBoxModel",
          "state": {
            "_view_name": "HBoxView",
            "_dom_classes": [],
            "_model_name": "HBoxModel",
            "_view_module": "@jupyter-widgets/controls",
            "_model_module_version": "1.5.0",
            "_view_count": null,
            "_view_module_version": "1.5.0",
            "box_style": "",
            "layout": "IPY_MODEL_cc9f09672add4ef3860e9125aa204e3e",
            "_model_module": "@jupyter-widgets/controls",
            "children": [
              "IPY_MODEL_7a4a1947e82f4903a165a5c5332c438b",
              "IPY_MODEL_9d65d2a893d04529a4aee31175be9991"
            ]
          }
        },
        "cc9f09672add4ef3860e9125aa204e3e": {
          "model_module": "@jupyter-widgets/base",
          "model_name": "LayoutModel",
          "state": {
            "_view_name": "LayoutView",
            "grid_template_rows": null,
            "right": null,
            "justify_content": null,
            "_view_module": "@jupyter-widgets/base",
            "overflow": null,
            "_model_module_version": "1.2.0",
            "_view_count": null,
            "flex_flow": null,
            "width": null,
            "min_width": null,
            "border": null,
            "align_items": null,
            "bottom": null,
            "_model_module": "@jupyter-widgets/base",
            "top": null,
            "grid_column": null,
            "overflow_y": null,
            "overflow_x": null,
            "grid_auto_flow": null,
            "grid_area": null,
            "grid_template_columns": null,
            "flex": null,
            "_model_name": "LayoutModel",
            "justify_items": null,
            "grid_row": null,
            "max_height": null,
            "align_content": null,
            "visibility": null,
            "align_self": null,
            "height": null,
            "min_height": null,
            "padding": null,
            "grid_auto_rows": null,
            "grid_gap": null,
            "max_width": null,
            "order": null,
            "_view_module_version": "1.2.0",
            "grid_template_areas": null,
            "object_position": null,
            "object_fit": null,
            "grid_auto_columns": null,
            "margin": null,
            "display": null,
            "left": null
          }
        },
        "7a4a1947e82f4903a165a5c5332c438b": {
          "model_module": "@jupyter-widgets/controls",
          "model_name": "FloatProgressModel",
          "state": {
            "_view_name": "ProgressView",
            "style": "IPY_MODEL_809a8084fe80436da7ba225ef0e0ba07",
            "_dom_classes": [],
            "description": "100%",
            "_model_name": "FloatProgressModel",
            "bar_style": "success",
            "max": 162,
            "_view_module": "@jupyter-widgets/controls",
            "_model_module_version": "1.5.0",
            "value": 162,
            "_view_count": null,
            "_view_module_version": "1.5.0",
            "orientation": "horizontal",
            "min": 0,
            "description_tooltip": null,
            "_model_module": "@jupyter-widgets/controls",
            "layout": "IPY_MODEL_d8e06a2697cc41c98a4592abd5b57d40"
          }
        },
        "9d65d2a893d04529a4aee31175be9991": {
          "model_module": "@jupyter-widgets/controls",
          "model_name": "HTMLModel",
          "state": {
            "_view_name": "HTMLView",
            "style": "IPY_MODEL_90a0709fd3ac4192a54f3e3010b0187a",
            "_dom_classes": [],
            "description": "",
            "_model_name": "HTMLModel",
            "placeholder": "​",
            "_view_module": "@jupyter-widgets/controls",
            "_model_module_version": "1.5.0",
            "value": " 162/162 [00:01&lt;00:00, 155.07it/s]",
            "_view_count": null,
            "_view_module_version": "1.5.0",
            "description_tooltip": null,
            "_model_module": "@jupyter-widgets/controls",
            "layout": "IPY_MODEL_fc72cd5d6fc5489cb4dd47dee418eea3"
          }
        },
        "809a8084fe80436da7ba225ef0e0ba07": {
          "model_module": "@jupyter-widgets/controls",
          "model_name": "ProgressStyleModel",
          "state": {
            "_view_name": "StyleView",
            "_model_name": "ProgressStyleModel",
            "description_width": "initial",
            "_view_module": "@jupyter-widgets/base",
            "_model_module_version": "1.5.0",
            "_view_count": null,
            "_view_module_version": "1.2.0",
            "bar_color": null,
            "_model_module": "@jupyter-widgets/controls"
          }
        },
        "d8e06a2697cc41c98a4592abd5b57d40": {
          "model_module": "@jupyter-widgets/base",
          "model_name": "LayoutModel",
          "state": {
            "_view_name": "LayoutView",
            "grid_template_rows": null,
            "right": null,
            "justify_content": null,
            "_view_module": "@jupyter-widgets/base",
            "overflow": null,
            "_model_module_version": "1.2.0",
            "_view_count": null,
            "flex_flow": null,
            "width": null,
            "min_width": null,
            "border": null,
            "align_items": null,
            "bottom": null,
            "_model_module": "@jupyter-widgets/base",
            "top": null,
            "grid_column": null,
            "overflow_y": null,
            "overflow_x": null,
            "grid_auto_flow": null,
            "grid_area": null,
            "grid_template_columns": null,
            "flex": null,
            "_model_name": "LayoutModel",
            "justify_items": null,
            "grid_row": null,
            "max_height": null,
            "align_content": null,
            "visibility": null,
            "align_self": null,
            "height": null,
            "min_height": null,
            "padding": null,
            "grid_auto_rows": null,
            "grid_gap": null,
            "max_width": null,
            "order": null,
            "_view_module_version": "1.2.0",
            "grid_template_areas": null,
            "object_position": null,
            "object_fit": null,
            "grid_auto_columns": null,
            "margin": null,
            "display": null,
            "left": null
          }
        },
        "90a0709fd3ac4192a54f3e3010b0187a": {
          "model_module": "@jupyter-widgets/controls",
          "model_name": "DescriptionStyleModel",
          "state": {
            "_view_name": "StyleView",
            "_model_name": "DescriptionStyleModel",
            "description_width": "",
            "_view_module": "@jupyter-widgets/base",
            "_model_module_version": "1.5.0",
            "_view_count": null,
            "_view_module_version": "1.2.0",
            "_model_module": "@jupyter-widgets/controls"
          }
        },
        "fc72cd5d6fc5489cb4dd47dee418eea3": {
          "model_module": "@jupyter-widgets/base",
          "model_name": "LayoutModel",
          "state": {
            "_view_name": "LayoutView",
            "grid_template_rows": null,
            "right": null,
            "justify_content": null,
            "_view_module": "@jupyter-widgets/base",
            "overflow": null,
            "_model_module_version": "1.2.0",
            "_view_count": null,
            "flex_flow": null,
            "width": null,
            "min_width": null,
            "border": null,
            "align_items": null,
            "bottom": null,
            "_model_module": "@jupyter-widgets/base",
            "top": null,
            "grid_column": null,
            "overflow_y": null,
            "overflow_x": null,
            "grid_auto_flow": null,
            "grid_area": null,
            "grid_template_columns": null,
            "flex": null,
            "_model_name": "LayoutModel",
            "justify_items": null,
            "grid_row": null,
            "max_height": null,
            "align_content": null,
            "visibility": null,
            "align_self": null,
            "height": null,
            "min_height": null,
            "padding": null,
            "grid_auto_rows": null,
            "grid_gap": null,
            "max_width": null,
            "order": null,
            "_view_module_version": "1.2.0",
            "grid_template_areas": null,
            "object_position": null,
            "object_fit": null,
            "grid_auto_columns": null,
            "margin": null,
            "display": null,
            "left": null
          }
        },
        "c56ba3de4a4a422aac6e1a48892e72b4": {
          "model_module": "@jupyter-widgets/controls",
          "model_name": "HBoxModel",
          "state": {
            "_view_name": "HBoxView",
            "_dom_classes": [],
            "_model_name": "HBoxModel",
            "_view_module": "@jupyter-widgets/controls",
            "_model_module_version": "1.5.0",
            "_view_count": null,
            "_view_module_version": "1.5.0",
            "box_style": "",
            "layout": "IPY_MODEL_7d3fe73ce89445599220e1f6fbdf1a2e",
            "_model_module": "@jupyter-widgets/controls",
            "children": [
              "IPY_MODEL_40b207dd7a68497eb2a8b386ad93fe40",
              "IPY_MODEL_8c4204044cc543df90deebbcea6e3df0"
            ]
          }
        },
        "7d3fe73ce89445599220e1f6fbdf1a2e": {
          "model_module": "@jupyter-widgets/base",
          "model_name": "LayoutModel",
          "state": {
            "_view_name": "LayoutView",
            "grid_template_rows": null,
            "right": null,
            "justify_content": null,
            "_view_module": "@jupyter-widgets/base",
            "overflow": null,
            "_model_module_version": "1.2.0",
            "_view_count": null,
            "flex_flow": null,
            "width": null,
            "min_width": null,
            "border": null,
            "align_items": null,
            "bottom": null,
            "_model_module": "@jupyter-widgets/base",
            "top": null,
            "grid_column": null,
            "overflow_y": null,
            "overflow_x": null,
            "grid_auto_flow": null,
            "grid_area": null,
            "grid_template_columns": null,
            "flex": null,
            "_model_name": "LayoutModel",
            "justify_items": null,
            "grid_row": null,
            "max_height": null,
            "align_content": null,
            "visibility": null,
            "align_self": null,
            "height": null,
            "min_height": null,
            "padding": null,
            "grid_auto_rows": null,
            "grid_gap": null,
            "max_width": null,
            "order": null,
            "_view_module_version": "1.2.0",
            "grid_template_areas": null,
            "object_position": null,
            "object_fit": null,
            "grid_auto_columns": null,
            "margin": null,
            "display": null,
            "left": null
          }
        },
        "40b207dd7a68497eb2a8b386ad93fe40": {
          "model_module": "@jupyter-widgets/controls",
          "model_name": "FloatProgressModel",
          "state": {
            "_view_name": "ProgressView",
            "style": "IPY_MODEL_9b988d83ab524342bd39f6cdb02ad29d",
            "_dom_classes": [],
            "description": "100%",
            "_model_name": "FloatProgressModel",
            "bar_style": "success",
            "max": 189,
            "_view_module": "@jupyter-widgets/controls",
            "_model_module_version": "1.5.0",
            "value": 189,
            "_view_count": null,
            "_view_module_version": "1.5.0",
            "orientation": "horizontal",
            "min": 0,
            "description_tooltip": null,
            "_model_module": "@jupyter-widgets/controls",
            "layout": "IPY_MODEL_816f8bab5ea34d218e350652b7124ec5"
          }
        },
        "8c4204044cc543df90deebbcea6e3df0": {
          "model_module": "@jupyter-widgets/controls",
          "model_name": "HTMLModel",
          "state": {
            "_view_name": "HTMLView",
            "style": "IPY_MODEL_636e00321ac64aa5a6eb658bc9acc6ae",
            "_dom_classes": [],
            "description": "",
            "_model_name": "HTMLModel",
            "placeholder": "​",
            "_view_module": "@jupyter-widgets/controls",
            "_model_module_version": "1.5.0",
            "value": " 189/189 [00:00&lt;00:00, 323.97it/s]",
            "_view_count": null,
            "_view_module_version": "1.5.0",
            "description_tooltip": null,
            "_model_module": "@jupyter-widgets/controls",
            "layout": "IPY_MODEL_5187e6d333a44a4ea34e780def25bec1"
          }
        },
        "9b988d83ab524342bd39f6cdb02ad29d": {
          "model_module": "@jupyter-widgets/controls",
          "model_name": "ProgressStyleModel",
          "state": {
            "_view_name": "StyleView",
            "_model_name": "ProgressStyleModel",
            "description_width": "initial",
            "_view_module": "@jupyter-widgets/base",
            "_model_module_version": "1.5.0",
            "_view_count": null,
            "_view_module_version": "1.2.0",
            "bar_color": null,
            "_model_module": "@jupyter-widgets/controls"
          }
        },
        "816f8bab5ea34d218e350652b7124ec5": {
          "model_module": "@jupyter-widgets/base",
          "model_name": "LayoutModel",
          "state": {
            "_view_name": "LayoutView",
            "grid_template_rows": null,
            "right": null,
            "justify_content": null,
            "_view_module": "@jupyter-widgets/base",
            "overflow": null,
            "_model_module_version": "1.2.0",
            "_view_count": null,
            "flex_flow": null,
            "width": null,
            "min_width": null,
            "border": null,
            "align_items": null,
            "bottom": null,
            "_model_module": "@jupyter-widgets/base",
            "top": null,
            "grid_column": null,
            "overflow_y": null,
            "overflow_x": null,
            "grid_auto_flow": null,
            "grid_area": null,
            "grid_template_columns": null,
            "flex": null,
            "_model_name": "LayoutModel",
            "justify_items": null,
            "grid_row": null,
            "max_height": null,
            "align_content": null,
            "visibility": null,
            "align_self": null,
            "height": null,
            "min_height": null,
            "padding": null,
            "grid_auto_rows": null,
            "grid_gap": null,
            "max_width": null,
            "order": null,
            "_view_module_version": "1.2.0",
            "grid_template_areas": null,
            "object_position": null,
            "object_fit": null,
            "grid_auto_columns": null,
            "margin": null,
            "display": null,
            "left": null
          }
        },
        "636e00321ac64aa5a6eb658bc9acc6ae": {
          "model_module": "@jupyter-widgets/controls",
          "model_name": "DescriptionStyleModel",
          "state": {
            "_view_name": "StyleView",
            "_model_name": "DescriptionStyleModel",
            "description_width": "",
            "_view_module": "@jupyter-widgets/base",
            "_model_module_version": "1.5.0",
            "_view_count": null,
            "_view_module_version": "1.2.0",
            "_model_module": "@jupyter-widgets/controls"
          }
        },
        "5187e6d333a44a4ea34e780def25bec1": {
          "model_module": "@jupyter-widgets/base",
          "model_name": "LayoutModel",
          "state": {
            "_view_name": "LayoutView",
            "grid_template_rows": null,
            "right": null,
            "justify_content": null,
            "_view_module": "@jupyter-widgets/base",
            "overflow": null,
            "_model_module_version": "1.2.0",
            "_view_count": null,
            "flex_flow": null,
            "width": null,
            "min_width": null,
            "border": null,
            "align_items": null,
            "bottom": null,
            "_model_module": "@jupyter-widgets/base",
            "top": null,
            "grid_column": null,
            "overflow_y": null,
            "overflow_x": null,
            "grid_auto_flow": null,
            "grid_area": null,
            "grid_template_columns": null,
            "flex": null,
            "_model_name": "LayoutModel",
            "justify_items": null,
            "grid_row": null,
            "max_height": null,
            "align_content": null,
            "visibility": null,
            "align_self": null,
            "height": null,
            "min_height": null,
            "padding": null,
            "grid_auto_rows": null,
            "grid_gap": null,
            "max_width": null,
            "order": null,
            "_view_module_version": "1.2.0",
            "grid_template_areas": null,
            "object_position": null,
            "object_fit": null,
            "grid_auto_columns": null,
            "margin": null,
            "display": null,
            "left": null
          }
        },
        "f62e7651264b42709ae3c7fe6715dcd2": {
          "model_module": "@jupyter-widgets/controls",
          "model_name": "HBoxModel",
          "state": {
            "_view_name": "HBoxView",
            "_dom_classes": [],
            "_model_name": "HBoxModel",
            "_view_module": "@jupyter-widgets/controls",
            "_model_module_version": "1.5.0",
            "_view_count": null,
            "_view_module_version": "1.5.0",
            "box_style": "",
            "layout": "IPY_MODEL_80749d3b261149018b0f199155956103",
            "_model_module": "@jupyter-widgets/controls",
            "children": [
              "IPY_MODEL_232d959f3ca6430d9b002b99d5c543bb",
              "IPY_MODEL_950965cb0f1141a5b62664ed89613eae"
            ]
          }
        },
        "80749d3b261149018b0f199155956103": {
          "model_module": "@jupyter-widgets/base",
          "model_name": "LayoutModel",
          "state": {
            "_view_name": "LayoutView",
            "grid_template_rows": null,
            "right": null,
            "justify_content": null,
            "_view_module": "@jupyter-widgets/base",
            "overflow": null,
            "_model_module_version": "1.2.0",
            "_view_count": null,
            "flex_flow": null,
            "width": null,
            "min_width": null,
            "border": null,
            "align_items": null,
            "bottom": null,
            "_model_module": "@jupyter-widgets/base",
            "top": null,
            "grid_column": null,
            "overflow_y": null,
            "overflow_x": null,
            "grid_auto_flow": null,
            "grid_area": null,
            "grid_template_columns": null,
            "flex": null,
            "_model_name": "LayoutModel",
            "justify_items": null,
            "grid_row": null,
            "max_height": null,
            "align_content": null,
            "visibility": null,
            "align_self": null,
            "height": null,
            "min_height": null,
            "padding": null,
            "grid_auto_rows": null,
            "grid_gap": null,
            "max_width": null,
            "order": null,
            "_view_module_version": "1.2.0",
            "grid_template_areas": null,
            "object_position": null,
            "object_fit": null,
            "grid_auto_columns": null,
            "margin": null,
            "display": null,
            "left": null
          }
        },
        "232d959f3ca6430d9b002b99d5c543bb": {
          "model_module": "@jupyter-widgets/controls",
          "model_name": "FloatProgressModel",
          "state": {
            "_view_name": "ProgressView",
            "style": "IPY_MODEL_0208759066464413bd64ee936f92082e",
            "_dom_classes": [],
            "description": "100%",
            "_model_name": "FloatProgressModel",
            "bar_style": "success",
            "max": 351,
            "_view_module": "@jupyter-widgets/controls",
            "_model_module_version": "1.5.0",
            "value": 351,
            "_view_count": null,
            "_view_module_version": "1.5.0",
            "orientation": "horizontal",
            "min": 0,
            "description_tooltip": null,
            "_model_module": "@jupyter-widgets/controls",
            "layout": "IPY_MODEL_ef7867dd744043faa6cc6df887b5cce7"
          }
        },
        "950965cb0f1141a5b62664ed89613eae": {
          "model_module": "@jupyter-widgets/controls",
          "model_name": "HTMLModel",
          "state": {
            "_view_name": "HTMLView",
            "style": "IPY_MODEL_634103c8c2ec499faa52ec8630a20cce",
            "_dom_classes": [],
            "description": "",
            "_model_name": "HTMLModel",
            "placeholder": "​",
            "_view_module": "@jupyter-widgets/controls",
            "_model_module_version": "1.5.0",
            "value": " 351/351 [00:10&lt;00:00, 32.82it/s]",
            "_view_count": null,
            "_view_module_version": "1.5.0",
            "description_tooltip": null,
            "_model_module": "@jupyter-widgets/controls",
            "layout": "IPY_MODEL_8e361a31f58741d3bcf10ef2933f5957"
          }
        },
        "0208759066464413bd64ee936f92082e": {
          "model_module": "@jupyter-widgets/controls",
          "model_name": "ProgressStyleModel",
          "state": {
            "_view_name": "StyleView",
            "_model_name": "ProgressStyleModel",
            "description_width": "initial",
            "_view_module": "@jupyter-widgets/base",
            "_model_module_version": "1.5.0",
            "_view_count": null,
            "_view_module_version": "1.2.0",
            "bar_color": null,
            "_model_module": "@jupyter-widgets/controls"
          }
        },
        "ef7867dd744043faa6cc6df887b5cce7": {
          "model_module": "@jupyter-widgets/base",
          "model_name": "LayoutModel",
          "state": {
            "_view_name": "LayoutView",
            "grid_template_rows": null,
            "right": null,
            "justify_content": null,
            "_view_module": "@jupyter-widgets/base",
            "overflow": null,
            "_model_module_version": "1.2.0",
            "_view_count": null,
            "flex_flow": null,
            "width": null,
            "min_width": null,
            "border": null,
            "align_items": null,
            "bottom": null,
            "_model_module": "@jupyter-widgets/base",
            "top": null,
            "grid_column": null,
            "overflow_y": null,
            "overflow_x": null,
            "grid_auto_flow": null,
            "grid_area": null,
            "grid_template_columns": null,
            "flex": null,
            "_model_name": "LayoutModel",
            "justify_items": null,
            "grid_row": null,
            "max_height": null,
            "align_content": null,
            "visibility": null,
            "align_self": null,
            "height": null,
            "min_height": null,
            "padding": null,
            "grid_auto_rows": null,
            "grid_gap": null,
            "max_width": null,
            "order": null,
            "_view_module_version": "1.2.0",
            "grid_template_areas": null,
            "object_position": null,
            "object_fit": null,
            "grid_auto_columns": null,
            "margin": null,
            "display": null,
            "left": null
          }
        },
        "634103c8c2ec499faa52ec8630a20cce": {
          "model_module": "@jupyter-widgets/controls",
          "model_name": "DescriptionStyleModel",
          "state": {
            "_view_name": "StyleView",
            "_model_name": "DescriptionStyleModel",
            "description_width": "",
            "_view_module": "@jupyter-widgets/base",
            "_model_module_version": "1.5.0",
            "_view_count": null,
            "_view_module_version": "1.2.0",
            "_model_module": "@jupyter-widgets/controls"
          }
        },
        "8e361a31f58741d3bcf10ef2933f5957": {
          "model_module": "@jupyter-widgets/base",
          "model_name": "LayoutModel",
          "state": {
            "_view_name": "LayoutView",
            "grid_template_rows": null,
            "right": null,
            "justify_content": null,
            "_view_module": "@jupyter-widgets/base",
            "overflow": null,
            "_model_module_version": "1.2.0",
            "_view_count": null,
            "flex_flow": null,
            "width": null,
            "min_width": null,
            "border": null,
            "align_items": null,
            "bottom": null,
            "_model_module": "@jupyter-widgets/base",
            "top": null,
            "grid_column": null,
            "overflow_y": null,
            "overflow_x": null,
            "grid_auto_flow": null,
            "grid_area": null,
            "grid_template_columns": null,
            "flex": null,
            "_model_name": "LayoutModel",
            "justify_items": null,
            "grid_row": null,
            "max_height": null,
            "align_content": null,
            "visibility": null,
            "align_self": null,
            "height": null,
            "min_height": null,
            "padding": null,
            "grid_auto_rows": null,
            "grid_gap": null,
            "max_width": null,
            "order": null,
            "_view_module_version": "1.2.0",
            "grid_template_areas": null,
            "object_position": null,
            "object_fit": null,
            "grid_auto_columns": null,
            "margin": null,
            "display": null,
            "left": null
          }
        }
      }
    }
  },
  "cells": [
    {
      "cell_type": "markdown",
      "metadata": {
        "id": "view-in-github",
        "colab_type": "text"
      },
      "source": [
        "<a href=\"https://colab.research.google.com/github/s-whynot/Transfer_Learning_Bearing_Fault/blob/main/3_Classes_CWRU_to_MFPT_Fault__Detection.ipynb\" target=\"_parent\"><img src=\"https://colab.research.google.com/assets/colab-badge.svg\" alt=\"Open In Colab\"/></a>"
      ]
    },
    {
      "cell_type": "markdown",
      "metadata": {
        "id": "O5MkT5LEqBKt"
      },
      "source": [
        "#Fault detection for rolling element bearings with Keras and Tensorflow using Transfer Learning"
      ]
    },
    {
      "cell_type": "markdown",
      "metadata": {
        "id": "RM9GLtdcVog4"
      },
      "source": [
        "# 1.Introduction \n",
        "The 2 datasets that have been used here are - \n",
        "CWRU and MFPT\n",
        "\n",
        "- The first dataset is from the [Case Western Reserve University](http://csegroups.case.edu/bearingdatacenter/home). This is used to classify faults using a CNN (Convolutional Neural Network). I have uploaded this data to [Github](https://github.com/s-whynot/CWRU-dataset). With this, I downloaded my own, verified, up-to-date(November 2020) CWRU bearing data. \n",
        "\n",
        "- [MFPT](https://www.mfpt.org/fault-data-sets/) Dataset for Bearing Fault Classification by the *Society for Machinery Failure Prevention Technology*. It is a Condition Based Maintenance Fault Database. It is meant for the purpose of Testing of Diagnostic and Prognostics Algorithms.\n",
        " "
      ]
    },
    {
      "cell_type": "code",
      "metadata": {
        "id": "ZXD1ypuN5s_1"
      },
      "source": [
        "import errno, os\n",
        "import requests\n",
        "import scipy.io as sio\n",
        "import numpy as np\n",
        "\n",
        "from os import listdir\n",
        "from os.path import isfile, join\n",
        "from zipfile import ZipFile "
      ],
      "execution_count": 1,
      "outputs": []
    },
    {
      "cell_type": "markdown",
      "metadata": {
        "id": "_S8h_z80WugC"
      },
      "source": [
        "# 2.Download the dataset - CWRU\n",
        "\n",
        "The dataset is downloaded from the [Github](https://github.com/s-whynot/CWRU-dataset) repository.  The dataset has several matlab files where the name is just a number (such as \"118.mat\"). It has information such as\n",
        "1. **State** -\n",
        "     - `N` for *normal* state, not damaged\n",
        "     - `B` for *ball* damage\n",
        "     - `IR` for *inner raceway* damage\n",
        "     - `OR` for *outer raceway* damage\n",
        "2. **Fault Diameter** -\n",
        "    - `007` for 0.007 inch damage\n",
        "    - `014` for 0.014 inch damage \n",
        "    - `021` for 0.021 inch damage\n",
        "    - `028` for 0.028 inch damage  \n",
        "    the unit 'mils' is 1/1000th of an inch\n",
        "3. **Position of the sensor** \n",
        "    - *3*, *6*, *12* for *outer raceway* faults located at 3 o’clock, at 6 o’clock and at 12 o’clock respectively of the load zone\n",
        "4. **Load** can be:\n",
        "    - *0*, *1*, *2*, *3* for different motor load conditions in Horsepower (HP)"
      ]
    },
    {
      "cell_type": "code",
      "metadata": {
        "colab": {
          "base_uri": "https://localhost:8080/"
        },
        "id": "B1xnZOPQmlaK",
        "outputId": "ae1d9aa5-f030-426d-a26f-2486e96318f1"
      },
      "source": [
        "filename = os.path.join(os.getcwd(), 'repo.zip')\n",
        "url = 'https://github.com/s-whynot/CWRU-dataset/archive/main.zip'\n",
        "\n",
        "r = requests.get(url)\n",
        "print(filename)\n",
        "with open(filename, 'wb') as f:\n",
        "    f.write(r.content) \n",
        "\n",
        "file_name = \"/content/repo.zip\"\n",
        "with ZipFile(file_name, 'r') as zip: \n",
        "    # printing all the contents of the zip file \n",
        "  \n",
        "    # extracting all the files \n",
        "    print('Extracting all the files now...') \n",
        "    zip.extractall() \n",
        "    print('Finished Extracting!') "
      ],
      "execution_count": 2,
      "outputs": [
        {
          "output_type": "stream",
          "text": [
            "/content/repo.zip\n",
            "Extracting all the files now...\n",
            "Finished Extracting!\n"
          ],
          "name": "stdout"
        }
      ]
    },
    {
      "cell_type": "markdown",
      "metadata": {
        "id": "fOTxlb4MW7v3"
      },
      "source": [
        "# 3.Edit the downloaded data"
      ]
    },
    {
      "cell_type": "markdown",
      "metadata": {
        "id": "Twx5bDlan904"
      },
      "source": [
        "##3.1 Functions used"
      ]
    },
    {
      "cell_type": "markdown",
      "metadata": {
        "id": "h8p5pgN8VohS"
      },
      "source": [
        "Using the data collected at the *Drive End*, which is labeled as the code `DE`, this function picks up the time signal from a file. For the given code, a regex is made on the dictionary keys, looking for the the code and ignoring the rest of the suffix. \n",
        "\n",
        "The function also converts the unit to SI."
      ]
    },
    {
      "cell_type": "code",
      "metadata": {
        "id": "vaG19HlFVohS"
      },
      "source": [
        "def acceleration_time_signal(dict_1, code):\n",
        "    \"\"\"\n",
        "    load the time series in the file and convert units in SI\n",
        "    file= 'filename' from the ./dataset/ folder\n",
        "    code= ' DE' or 'FE', other code will give error\n",
        "    \"\"\"\n",
        "    import re\n",
        "    try:\n",
        "        for key in dict_1:\n",
        "            if re.findall(rf\"({code})\", key):\n",
        "                dict_code = key\n",
        "        #inches to meter\n",
        "        unit_conv = 0.0254\n",
        "        x = dict_1[dict_code] * unit_conv\n",
        "        return x\n",
        "    except:\n",
        "        print('File does not exist or code wrong. Code must be either \"DE or \"FE\" ')"
      ],
      "execution_count": 3,
      "outputs": []
    },
    {
      "cell_type": "markdown",
      "metadata": {
        "id": "0qETlYPb_1e5"
      },
      "source": [
        "- 3 different functions are necessary to process the files and the data\n",
        "- All subfolders scanned recursively with the function `fast_scandir` "
      ]
    },
    {
      "cell_type": "code",
      "metadata": {
        "id": "PGejU6cDVr5F"
      },
      "source": [
        "def Read_MAT_files_from_folders(file_path, files_list, code):\n",
        "  G_data = []\n",
        "  for i in range(len(files_list)):\n",
        "    data = sio.loadmat(os.path.join(file_path, files_list[i]))\n",
        "    sig = acceleration_time_signal(data, code)\n",
        "    G_data.append(sig)\n",
        "  \n",
        "  G_data = np.vstack(G_data).flatten()\n",
        "  return G_data \n",
        "\n",
        "def Percent_data_split(array_1, array_2, percent_1 = 10, index_1 = False):\n",
        "  if index_1 == False:\n",
        "    #splitting FE data by percent \n",
        "    len_n = array_1.shape[0]\n",
        "    percent_true = percent_1/100\n",
        "    x = int(percent_true*len_n) #% split\n",
        "    data_percent, data_rest = np.split(array_1, [x])\n",
        "  else:\n",
        "    #splitting array_1 data by percent of array_2 data\n",
        "    len_n = array_2.shape[0]\n",
        "    percent_true = percent_1/100\n",
        "    x = int(percent_true*len_n) #% split\n",
        "    data_percent, data_rest = np.split(array_1, [x])\n",
        "\n",
        "  return data_percent, data_rest\n",
        "\n",
        "def fast_scandir(dirname):\n",
        "    subfolders= [f.path for f in os.scandir(dirname) if f.is_dir()]\n",
        "    for dirname in list(subfolders):\n",
        "        subfolders.extend(fast_scandir(dirname))\n",
        "    return subfolders "
      ],
      "execution_count": 60,
      "outputs": []
    },
    {
      "cell_type": "markdown",
      "metadata": {
        "id": "gkJvPvWecQLq"
      },
      "source": [
        "##3.2 Source Domain "
      ]
    },
    {
      "cell_type": "markdown",
      "metadata": {
        "id": "nOVQNWCNnOIP"
      },
      "source": [
        "### 3.2.1 Normal Acceleration data \n",
        "CWRU DE "
      ]
    },
    {
      "cell_type": "code",
      "metadata": {
        "id": "DDqDg66vQvHc",
        "colab": {
          "base_uri": "https://localhost:8080/",
          "height": 35
        },
        "outputId": "c1458fd4-e8f8-4fa5-9c1f-cb87bfe22d2b"
      },
      "source": [
        "#12k Normal Signal for DE\n",
        "file_path_1 = '/content/CWRU-dataset-main/Normal/'\n",
        "onlyfiles_1 = [f for f in listdir(file_path_1) if isfile(join(file_path_1, f))]\n",
        "\n",
        "G_data_N_DE = Read_MAT_files_from_folders(file_path_1, onlyfiles_1, \"DE\")\n",
        "display(G_data_N_DE.shape)"
      ],
      "execution_count": 61,
      "outputs": [
        {
          "output_type": "display_data",
          "data": {
            "text/plain": [
              "(1698547,)"
            ]
          },
          "metadata": {
            "tags": []
          }
        }
      ]
    },
    {
      "cell_type": "markdown",
      "metadata": {
        "id": "9RSryqfWuDzd"
      },
      "source": [
        "### 3.2.2 12000 Hz DE data for faults \n",
        "1. B, \n",
        "2. IR, \n",
        "3. OR"
      ]
    },
    {
      "cell_type": "code",
      "metadata": {
        "id": "V_Pb4_0Izqwc",
        "colab": {
          "base_uri": "https://localhost:8080/"
        },
        "outputId": "144c522c-f5ad-42a4-8d66-cc15570fff2b"
      },
      "source": [
        "#12k DE data load\n",
        "file_path_2 = '/content/CWRU-dataset-main/12k_Drive_End_Bearing_Fault_Data/'\n",
        "subfolder_path = fast_scandir(file_path_2)\n",
        "\n",
        "G_data_IR_DE = []\n",
        "G_data_OR_DE = []\n",
        "G_data_OR_007_DE = []\n",
        "G_data_OR_021_DE = []\n",
        "\n",
        "for i in range(3, len(subfolder_path), 1):\n",
        "  dir_1 = subfolder_path[i]\n",
        "  #B\n",
        "  if 'B/' in dir_1:\n",
        "    onlyfiles_2_1 = [f for f in listdir(dir_1) if isfile(join(dir_1, f))]\n",
        "    #print(dir_1, onlyfiles_2_1)\n",
        "\n",
        "    if '007' in dir_1:\n",
        "    #007\n",
        "      G_data_B_007_DE = Read_MAT_files_from_folders(dir_1, onlyfiles_2_1, \"DE\")\n",
        "    elif '014' in dir_1:\n",
        "    #014\n",
        "      G_data_B_014_DE = Read_MAT_files_from_folders(dir_1, onlyfiles_2_1, \"DE\")\n",
        "    elif '021' in dir_1:\n",
        "    #021\n",
        "      G_data_B_021_DE = Read_MAT_files_from_folders(dir_1, onlyfiles_2_1, \"DE\")\n",
        "    else:\n",
        "    #028\n",
        "      G_data_B_028_DE = Read_MAT_files_from_folders(dir_1, onlyfiles_2_1, \"DE\")\n",
        "  #B\n",
        "  #IR\n",
        "  elif 'IR/' in dir_1:\n",
        "    onlyfiles_2_2 = [f for f in listdir(dir_1) if isfile(join(dir_1, f))]\n",
        "    #print(dir_1, onlyfiles_2_2)\n",
        "\n",
        "    if '007' in dir_1:\n",
        "    #007\n",
        "      G_data_IR_007_DE = Read_MAT_files_from_folders(dir_1, onlyfiles_2_2, \"DE\")\n",
        "    elif '014' in dir_1:\n",
        "    #014\n",
        "      G_data_IR_014_DE = Read_MAT_files_from_folders(dir_1, onlyfiles_2_2, \"DE\")\n",
        "    elif '021' in dir_1:\n",
        "    #021\n",
        "      G_data_IR_021_DE = Read_MAT_files_from_folders(dir_1, onlyfiles_2_2, \"DE\")\n",
        "    else:\n",
        "    #028\n",
        "      G_data_IR_028_DE = Read_MAT_files_from_folders(dir_1, onlyfiles_2_2, \"DE\")\n",
        "  #IR\n",
        "  #OR\n",
        "  elif 'OR/' in dir_1:\n",
        "    onlyfiles_2_3 = [f for f in listdir(dir_1) if isfile(join(dir_1, f))]\n",
        "    #print(dir_1, onlyfiles_2_3)\n",
        "    if '007' in dir_1:\n",
        "      #007\n",
        "      for i in range(len(onlyfiles_2_3)):\n",
        "        data_OR_007 = sio.loadmat(os.path.join(dir_1, onlyfiles_2_3[i]))\n",
        "        #print(dir_1, onlyfiles_2_3[i])\n",
        "        or_sig_007 = acceleration_time_signal(data_OR_007, code='DE')\n",
        "        G_data_OR_007_DE.append(or_sig_007)\n",
        "    elif '014' in dir_1:\n",
        "      #014\n",
        "      #print(dir_1)\n",
        "      G_data_OR_014_DE = Read_MAT_files_from_folders(dir_1, onlyfiles_2_3, \"DE\")\n",
        "    else:\n",
        "      #021\n",
        "      for i in range(len(onlyfiles_2_3)):\n",
        "        #print(dir_1, onlyfiles_2_3[i])\n",
        "        data_OR_021 = sio.loadmat(os.path.join(dir_1, onlyfiles_2_3[i]))\n",
        "        or_sig_021 = acceleration_time_signal(data_OR_021, code='DE')\n",
        "        G_data_OR_021_DE.append(or_sig_021)\n",
        "  #OR \n",
        "print(\"G_data_B_007_DE\", G_data_B_007_DE.shape)\n",
        "print(\"G_data_B_014_DE\", G_data_B_014_DE.shape)\n",
        "print(\"G_data_B_021_DE\", G_data_B_021_DE.shape)\n",
        "print(\"G_data_B_028_DE\", G_data_B_028_DE.shape)\n",
        "\n",
        "print(\"G_data_IR_007_DE\", G_data_IR_007_DE.shape)\n",
        "print(\"G_data_IR_014_DE\", G_data_IR_014_DE.shape)\n",
        "print(\"G_data_IR_021_DE\", G_data_IR_021_DE.shape)\n",
        "print(\"G_data_IR_028_DE\", G_data_IR_028_DE.shape)\n",
        "G_data_IR_DE = np.concatenate((G_data_IR_007_DE, G_data_IR_014_DE, G_data_IR_021_DE, G_data_IR_028_DE), axis=0).flatten()\n",
        "print(\"G_data_IR_DE\", G_data_IR_DE.shape)\n",
        "\n",
        "G_data_OR_007_DE = np.vstack(G_data_OR_007_DE).flatten()\n",
        "print(\"G_data_OR_007_DE\", G_data_OR_007_DE.shape)\n",
        "G_data_OR_014_DE = np.vstack(G_data_OR_014_DE).flatten()\n",
        "print(\"G_data_OR_014_DE\", np.shape(G_data_OR_014_DE))\n",
        "G_data_OR_021_DE = np.vstack(G_data_OR_021_DE).flatten()\n",
        "print(\"G_data_OR_021_DE\", G_data_OR_021_DE.shape)   \n",
        "G_data_OR_DE = np.concatenate((G_data_OR_007_DE, G_data_OR_014_DE, G_data_OR_021_DE), axis=0).flatten()\n",
        "print(\"G_data_OR_DE\", np.shape(G_data_OR_DE))  "
      ],
      "execution_count": 62,
      "outputs": [
        {
          "output_type": "stream",
          "text": [
            "G_data_B_007_DE (487093,)\n",
            "G_data_B_014_DE (488109,)\n",
            "G_data_B_021_DE (487964,)\n",
            "G_data_B_028_DE (484120,)\n",
            "G_data_IR_007_DE (488309,)\n",
            "G_data_IR_014_DE (487239,)\n",
            "G_data_IR_021_DE (487529,)\n",
            "G_data_IR_028_DE (485038,)\n",
            "G_data_IR_DE (1948115,)\n",
            "G_data_OR_007_DE (1465051,)\n",
            "G_data_OR_014_DE (487819,)\n",
            "G_data_OR_021_DE (1465487,)\n",
            "G_data_OR_DE (3418357,)\n"
          ],
          "name": "stdout"
        }
      ]
    },
    {
      "cell_type": "markdown",
      "metadata": {
        "id": "zb-WQg9qdLyC"
      },
      "source": [
        "### 3.2.3 Plot - CWRU\n",
        "Some signals are plotted for the position code = `DE` of the train data. The data is sampled at 12kHz, that is 12000 data points per second. Plot is done for 1/10 or 10% of 1 second: "
      ]
    },
    {
      "cell_type": "code",
      "metadata": {
        "id": "U5XADMXGVohV",
        "colab": {
          "base_uri": "https://localhost:8080/",
          "height": 457
        },
        "outputId": "a13fa713-cc0f-4436-9e95-299ca548c72a"
      },
      "source": [
        "%matplotlib inline\n",
        "import matplotlib.pyplot as plt\n",
        "\n",
        "range_of_samples = range(0,1200)\n",
        "\n",
        "# plotting\n",
        "fig, axs = plt.subplots(2, 2, sharey=True, figsize=(10, 6), constrained_layout=True)\n",
        "fig.suptitle('CWRU Acceleration data - Drive End(DE)')\n",
        "\n",
        "axs[0, 0].plot(G_data_N_DE[range_of_samples])\n",
        "axs[0, 0].set_title('Normal state')\n",
        "\n",
        "axs[0, 1].plot(G_data_B_007_DE[range_of_samples])\n",
        "axs[0, 1].set_title('Ball fault (diameter 0.007 inch)')\n",
        "\n",
        "axs[1, 0].plot(G_data_IR_007_DE[range_of_samples])\n",
        "axs[1, 0].set_title('Inner Race fault (diameter 0.007 inch)')\n",
        "\n",
        "axs[1, 1].plot(G_data_OR_007_DE[range_of_samples])\n",
        "axs[1, 1].set_title('Outer Race fault (diameter 0.007 inch)')\n",
        "\n",
        "for ax in axs.flat:\n",
        "    ax.set(xlabel='time $(s)$', ylabel='acceleration $(m/s^2)$')\n"
      ],
      "execution_count": 63,
      "outputs": [
        {
          "output_type": "display_data",
          "data": {
            "image/png": "[encoded data removed]",
            "text/plain": [
              "<Figure size 720x432 with 4 Axes>"
            ]
          },
          "metadata": {
            "tags": [],
            "needs_background": "light"
          }
        }
      ]
    },
    {
      "cell_type": "markdown",
      "metadata": {
        "id": "6EZV8XbjueL9"
      },
      "source": [
        "##3.3 Transfer Domain \n",
        " "
      ]
    },
    {
      "cell_type": "markdown",
      "metadata": {
        "id": "K6L35Hp9zql-"
      },
      "source": [
        "Loading the MFPT dataset\n"
      ]
    },
    {
      "cell_type": "code",
      "metadata": {
        "id": "vwvRvIdYtv80",
        "colab": {
          "base_uri": "https://localhost:8080/"
        },
        "outputId": "0c7df95b-be27-4d42-e25c-de445e3790c5"
      },
      "source": [
        "from google.colab import drive\n",
        "drive.mount('/content/drive')"
      ],
      "execution_count": 8,
      "outputs": [
        {
          "output_type": "stream",
          "text": [
            "Mounted at /content/drive\n"
          ],
          "name": "stdout"
        }
      ]
    },
    {
      "cell_type": "markdown",
      "metadata": {
        "id": "wPnYzKIaAJ2D"
      },
      "source": [
        "### 3.3.1 Functions used 2\n",
        "*Functions* used\n"
      ]
    },
    {
      "cell_type": "code",
      "metadata": {
        "id": "r0eTuFUYqWxZ"
      },
      "source": [
        "#Function for extracting g data array from the dictionary read from Mat files\n",
        "def arrtolistgdataALT(matarr):\n",
        "  p11 = matarr['bearing'][:,0]['gs']\n",
        "  return p11[0]\n",
        "\n",
        "def Percent_split(array_1, percent = 1):\n",
        "  len_n = len(array_1)\n",
        "  percent_true = percent/100\n",
        "  x = int(percent_true*len_n) #% split\n",
        "  data_percent, data_rest = np.split(array_1, [x])\n",
        "\n",
        "  return data_percent, data_rest\n",
        "\n",
        "#Function for downsampling every window of g data array\n",
        "def downsampling_half_sec_window(Garr, no_of_windows_in_sec):\n",
        "  Arr_split = np.split(Garr, no_of_windows_in_sec)\n",
        "  down_sampled_all = []\n",
        "  for i in range(no_of_windows_in_sec):\n",
        "    down_sampled = Arr_split[i][::2]\n",
        "    down_sampled_all = np.append(down_sampled_all, down_sampled)\n",
        "  res1 = np.vstack(down_sampled_all) \n",
        "  return res1"
      ],
      "execution_count": 9,
      "outputs": []
    },
    {
      "cell_type": "markdown",
      "metadata": {
        "id": "AOkOAcDD_7g-"
      },
      "source": [
        "### 3.3.2 Nominal \"No Fault\" Data\n",
        "3 Baseline conditions -\n",
        "\n",
        "1.   Constant load of 270 lbs \n",
        "2.   Input Shaft Rate of 25 Hz\n",
        "3.   Sampling Rate of 97.656 kHz\n"
      ]
    },
    {
      "cell_type": "code",
      "metadata": {
        "id": "CHpO8hWdUpC9"
      },
      "source": [
        "file_path = 'drive/My Drive/MFPT Fault Data Sets/1 - Three Baseline Conditions/'\n",
        "onlyfiles = [f for f in listdir(file_path) if isfile(join(file_path, f))]\n",
        "\n",
        "#Reading data from folder\n",
        "Nominal_data = []\n",
        "for filename in os.listdir(file_path):\n",
        "  if filename.endswith('.mat'):\n",
        "    datadict = sio.loadmat(os.path.join(file_path, filename))\n",
        "    time = datadict['__header__'][50:]\n",
        "    Gdata = arrtolistgdataALT(datadict)\n",
        "    Nominal_data.append(Gdata)   \n",
        "       \n",
        "Nominal_data = np.vstack(Nominal_data).flatten()"
      ],
      "execution_count": 64,
      "outputs": []
    },
    {
      "cell_type": "markdown",
      "metadata": {
        "id": "EFVVTP5zKSQY"
      },
      "source": [
        "Extract the Sampling Rate"
      ]
    },
    {
      "cell_type": "code",
      "metadata": {
        "id": "vPQe2o4OohKi",
        "colab": {
          "base_uri": "https://localhost:8080/"
        },
        "outputId": "692c322f-cdd6-4cd6-ad0c-5f2e580feb16"
      },
      "source": [
        "p1 = datadict['bearing']['sr'].tolist()\n",
        "psr_1 = p1[0][0][0][0]\n",
        "print(\"The Sampling Rate in Hz: \", psr_1)\n",
        "p111 = datadict['bearing'][:, 0]['load'].tolist()\n",
        "print(\"Baseline Data for a Constant load in lbs: \", p111[0].tolist()[0][0])"
      ],
      "execution_count": 11,
      "outputs": [
        {
          "output_type": "stream",
          "text": [
            "The Sampling Rate in Hz:  97656\n",
            "Baseline Data for a Constant load in lbs:  270\n"
          ],
          "name": "stdout"
        }
      ]
    },
    {
      "cell_type": "markdown",
      "metadata": {
        "id": "-eYXUt601r4J"
      },
      "source": [
        "### 3.3.3 Outer Race(OR) Fault conditions"
      ]
    },
    {
      "cell_type": "markdown",
      "metadata": {
        "id": "2ICiShHv6_nu"
      },
      "source": [
        "#### 3 Outer Race(OR) Fault conditions \n",
        "1.   Constant load of 270 lbs \n",
        "2.   Input Shaft Rate of 25 Hz\n",
        "3.   Sampling Rate of 97.656 kHz"
      ]
    },
    {
      "cell_type": "markdown",
      "metadata": {
        "id": "gxZWpfNFZXgi"
      },
      "source": [
        "**Simply skip every other samples to reduce the sampling rate to half**\n",
        "\n",
        "\n",
        "*   3 files - total 1,757,808 data points\n",
        "*   Each file - dimension (585936, 1)\n",
        "*   585,936 / 6 seconds = 97656 Sampling rate in Hz\n",
        "*   97656 X 1 =  97,656\n",
        "*   97656 X 2 = 195,312\n",
        "*   97656 X 3 = 292,968\n",
        "*   97656 X 4 = 390,624\n",
        "*   97656 X 5 = 488,280\n",
        "*   97656 X 6 = 585,936\n",
        "\n",
        "---\n",
        "\n",
        "After skipping every 2 steps - \n",
        "\n",
        "*   97,656 / 2 = 48,828\n",
        "*   For each 6 windows = 48,828 * 6 = 292,968 in a single file\n",
        "*   For 3 files = 292,968 * 3  = 878,904\n",
        "\n",
        "Now sampling rate for both OR data same\n",
        "\n",
        "\n",
        "\n",
        "\n"
      ]
    },
    {
      "cell_type": "code",
      "metadata": {
        "id": "O3GHZx-lftt1",
        "colab": {
          "base_uri": "https://localhost:8080/"
        },
        "outputId": "2ea25f88-7ef9-49b7-888b-f564c6a13ef5"
      },
      "source": [
        "#The files present in the folder\n",
        "file_path_2 = 'drive/My Drive/MFPT Fault Data Sets/2 - Three Outer Race Fault Conditions/'\n",
        "onlyfiles_2 = [f for f in listdir(file_path_2) if isfile(join(file_path_2, f))]\n",
        "print(onlyfiles_2)\n",
        "\n",
        "Fixed_L_OR_data = []\n",
        "\n",
        "for filename_2 in os.listdir(file_path_2):\n",
        "  if filename_2.endswith('.mat'):\n",
        "    datadict_2 = sio.loadmat(os.path.join(file_path_2, filename_2))\n",
        "    time_2 = datadict_2['__header__'][50:]\n",
        "    Gdata_2 = arrtolistgdataALT(datadict_2)\n",
        "    Gdata_2_Edit = downsampling_half_sec_window(Gdata_2, 6)\n",
        "    Fixed_L_OR_data.append(Gdata_2_Edit)\n",
        "\n",
        "Fixed_L_OR_data = np.vstack(Fixed_L_OR_data).flatten()"
      ],
      "execution_count": 65,
      "outputs": [
        {
          "output_type": "stream",
          "text": [
            "['cyclostat.tif', 'OuterRaceFault_1.mat', 'OuterRaceFault_2.mat', 'OuterRaceFault_3.mat']\n"
          ],
          "name": "stdout"
        }
      ]
    },
    {
      "cell_type": "markdown",
      "metadata": {
        "id": "1IxSIKwuKipJ"
      },
      "source": [
        "Extract the Sampling Rate"
      ]
    },
    {
      "cell_type": "code",
      "metadata": {
        "id": "4jjauG9SyFVw",
        "colab": {
          "base_uri": "https://localhost:8080/"
        },
        "outputId": "8a388a68-bb4c-4662-f97d-81f957091c83"
      },
      "source": [
        "p2 = datadict_2['bearing']['sr'].tolist()\n",
        "psr_2 = p2[0][0][0][0]\n",
        "print(\"The Sampling Rate in Hz: \", psr_2)"
      ],
      "execution_count": 13,
      "outputs": [
        {
          "output_type": "stream",
          "text": [
            "The Sampling Rate in Hz:  97656\n"
          ],
          "name": "stdout"
        }
      ]
    },
    {
      "cell_type": "markdown",
      "metadata": {
        "id": "mUABrY5t7QS9"
      },
      "source": [
        "#### 7 Outer Race(OR) conditions \n",
        "1.   Variable loads of 25, 50, 100, 150, 200, 250 and 300 lbs \n",
        "2.   Input Shaft Rate of 25 Hz\n",
        "3.   Sampling Rate of 48.828 kHz for 3 seconds \n",
        "\n",
        "Merging the **fixed load, high Sampling Rate(SR)** OR data with the **variable load, lower SR OR data**.\n",
        "Sampling rate is same for both OR data - "
      ]
    },
    {
      "cell_type": "code",
      "metadata": {
        "id": "SG5fgZw5kVx1",
        "colab": {
          "base_uri": "https://localhost:8080/"
        },
        "outputId": "07facb49-cb03-4ee5-e01c-8eed253e3338"
      },
      "source": [
        "#The files present in the folder\n",
        "file_path_3 = 'drive/My Drive/MFPT Fault Data Sets/3 - Seven More Outer Race Fault Conditions/'\n",
        "onlyfiles_3 = [f for f in listdir(file_path_3) if isfile(join(file_path_3, f))]\n",
        "print(onlyfiles_3)\n",
        "\n",
        "Var_L_OR_data = []\n",
        "\n",
        "for filename_3 in os.listdir(file_path_3):\n",
        "     if filename_3.endswith('.mat'):\n",
        "       datadict_3 = sio.loadmat(os.path.join(file_path_3, filename_3))\n",
        "       time_3 = datadict_3['__header__'][50:]\n",
        "       Gdata_3 = arrtolistgdataALT(datadict_3)\n",
        "       Var_L_OR_data.append(Gdata_3)\n",
        "\n",
        "Var_L_OR_data = np.vstack(Var_L_OR_data).flatten()\n",
        "merged_G_OR_data = np.append(Var_L_OR_data, Fixed_L_OR_data)"
      ],
      "execution_count": 66,
      "outputs": [
        {
          "output_type": "stream",
          "text": [
            "['OuterRaceFault_vload_3.mat', 'OuterRaceFault_vload_2.mat', 'OuterRaceFault_vload_1.mat', 'OuterRaceFault_vload_5.mat', 'OuterRaceFault_vload_4.mat', 'OuterRaceFault_vload_6.mat', 'OuterRaceFault_vload_7.mat']\n"
          ],
          "name": "stdout"
        }
      ]
    },
    {
      "cell_type": "markdown",
      "metadata": {
        "id": "WMRsY6-fKw6U"
      },
      "source": [
        "Extract the Sampling Rate"
      ]
    },
    {
      "cell_type": "code",
      "metadata": {
        "id": "sJHpLc5HlEk-",
        "colab": {
          "base_uri": "https://localhost:8080/"
        },
        "outputId": "212f55fd-5bea-44b7-eed7-247b3906f64c"
      },
      "source": [
        "p3 = datadict_3['bearing']['sr'].tolist()\n",
        "psr_3 = p3[0][0][0][0]\n",
        "print(\"The Sampling Rate in Hz: \", psr_3)"
      ],
      "execution_count": 15,
      "outputs": [
        {
          "output_type": "stream",
          "text": [
            "The Sampling Rate in Hz:  48828\n"
          ],
          "name": "stdout"
        }
      ]
    },
    {
      "cell_type": "markdown",
      "metadata": {
        "id": "vtpv3Z7Y70oY"
      },
      "source": [
        "### 3.3.4 7 Inner Race(IR) conditions \n",
        "\n",
        "1. Variable loads of 0, 50, 100, 150, 200, 250 and 300 lbs\n",
        "2. Input Shaft Rate of 25 Hz\n",
        "3. Sampling Rate of 48.828 kHz for 3 seconds "
      ]
    },
    {
      "cell_type": "code",
      "metadata": {
        "id": "S_XUAeFO8chK",
        "colab": {
          "base_uri": "https://localhost:8080/"
        },
        "outputId": "68fb892c-20a3-458a-afc1-27ccc39337e6"
      },
      "source": [
        "#The files present in the folder\n",
        "file_path_4 = 'drive/My Drive/MFPT Fault Data Sets/4 - Seven Inner Race Fault Conditions/'\n",
        "onlyfiles_4 = [f for f in listdir(file_path_4) if isfile(join(file_path_4, f))]\n",
        "print(onlyfiles_4)\n",
        "\n",
        "IR_data = []\n",
        "for filename_4 in os.listdir(file_path_4):\n",
        "     if filename_4.endswith('.mat'):\n",
        "       datadict_4 = sio.loadmat(os.path.join(file_path_4, filename_4))\n",
        "       time_4 = datadict_4['__header__'][50:]\n",
        "       Gdata_4 = arrtolistgdataALT(datadict_4)\n",
        "       IR_data.append(Gdata_4)\n",
        "\n",
        "IR_data = np.vstack(IR_data).flatten()"
      ],
      "execution_count": 67,
      "outputs": [
        {
          "output_type": "stream",
          "text": [
            "['innerRaceFaultTime.tif', 'innerRaceFaultTime.png', 'innerRaceFaultTime.fig', 'InnerRaceFault_vload_3.mat', 'InnerRaceFault_vload_2.mat', 'InnerRaceFault_vload_1.mat', 'InnerRace.fig', 'InnerRaceFault_vload_5.mat', 'InnerRaceFault_vload_4.mat', 'InnerRaceFault_vload_6.mat', 'InnerRaceFault_vload_7.mat']\n"
          ],
          "name": "stdout"
        }
      ]
    },
    {
      "cell_type": "code",
      "metadata": {
        "id": "CyDQYoyE08WK",
        "colab": {
          "base_uri": "https://localhost:8080/"
        },
        "outputId": "e7bc641b-b00d-4c2e-9c19-83a5c028cbc6"
      },
      "source": [
        "p4 = datadict_4['bearing']['sr'].tolist()\n",
        "psr_4 = p4[0][0][0][0]\n",
        "print(\"The Sampling Rate in Hz: \", psr_4)"
      ],
      "execution_count": 17,
      "outputs": [
        {
          "output_type": "stream",
          "text": [
            "The Sampling Rate in Hz:  48828\n"
          ],
          "name": "stdout"
        }
      ]
    },
    {
      "cell_type": "markdown",
      "metadata": {
        "id": "WgB2qDOLUEMM"
      },
      "source": [
        "### 3.3.5 Test Split\n",
        "Separating 10%-90% for Train-Test, this split is for **Transfer Learning**\n",
        "1. Nominal - 10%\n",
        "2. Outer Race - 10%\n",
        "3. Inner Race - 10%"
      ]
    },
    {
      "cell_type": "code",
      "metadata": {
        "colab": {
          "base_uri": "https://localhost:8080/"
        },
        "id": "1-rt54ai-7B0",
        "outputId": "f73db2bf-e432-4603-c836-99235cd12ae2"
      },
      "source": [
        "Nominal_data_train, Nominal_data_test = Percent_data_split(Nominal_data, Nominal_data, percent_1 = 10, index_1 = False)\n",
        "print(\"Nominal_data_train\", Nominal_data_train.shape)\n",
        "print(\"Nominal_data_test\", Nominal_data_test.shape)\n",
        "\n",
        "IR_data_train, IR_data_test =  Percent_data_split(IR_data, IR_data, percent_1 = 10, index_1 = False)\n",
        "print(\"IR_data_train\", IR_data_train.shape)\n",
        "print(\"IR_data_test\", IR_data_test.shape)\n",
        "\n",
        "OR_data_train, OR_data_test =  Percent_data_split(merged_G_OR_data, merged_G_OR_data, percent_1 = 10, index_1 = False)\n",
        "print(\"OR_data_train\", OR_data_train.shape)\n",
        "print(\"OR_data_test\", OR_data_test.shape)"
      ],
      "execution_count": 68,
      "outputs": [
        {
          "output_type": "stream",
          "text": [
            "Nominal_data_train (175780,)\n",
            "Nominal_data_test (1582028,)\n",
            "IR_data_train (102538,)\n",
            "IR_data_test (922850,)\n",
            "OR_data_train (190429,)\n",
            "OR_data_test (1713863,)\n"
          ],
          "name": "stdout"
        }
      ]
    },
    {
      "cell_type": "markdown",
      "metadata": {
        "id": "nM7Q1xuJsRcp"
      },
      "source": [
        "### 3.3.6 Sampling rates fraction\n",
        "Processing the 2 different sampling rates - 97 kHz and 48 kHz by taking 1/10 of each"
      ]
    },
    {
      "cell_type": "code",
      "metadata": {
        "id": "0WN2kgffsQKG"
      },
      "source": [
        "rounded_psr_2 = int(psr_1/10)\n",
        "range_of_samples_2 = range(0, rounded_psr_2)\n",
        "rounded_psr_3 = int(psr_3/10)\n",
        "range_of_samples_3 = range(0, rounded_psr_3)"
      ],
      "execution_count": 19,
      "outputs": []
    },
    {
      "cell_type": "markdown",
      "metadata": {
        "id": "fHHsKRcHdqMi"
      },
      "source": [
        "### 3.3.7 Acceleration data Plot - MFPT"
      ]
    },
    {
      "cell_type": "code",
      "metadata": {
        "id": "OoIUxW_rLggP",
        "colab": {
          "base_uri": "https://localhost:8080/",
          "height": 307
        },
        "outputId": "bd914362-0102-4332-bdfc-8d6b13bedbda"
      },
      "source": [
        "fig, (plt1, plt2, plt3) = plt.subplots(1, 3, sharey = True, figsize=(12,4), constrained_layout=True)\n",
        "\n",
        "plt1.set_xlabel(\"time $(s)$\")\n",
        "plt1.set_ylabel(\"acceleration $(m/s^2)$\")\n",
        "plt1.set_title('Nominal state (No Fault)')\n",
        "plt1.plot(Nominal_data_test[range_of_samples_2])\n",
        "\n",
        "plt2.set_xlabel(\"time $(s)$\")\n",
        "plt2.set_ylabel(\"acceleration $(m/s^2)$\")\n",
        "plt2.set_title('Outer Race fault (Fixed & Variable Load)')\n",
        "plt2.plot(OR_data_test[range_of_samples_3])\n",
        "\n",
        "plt3.set_xlabel(\"time $(s)$\")\n",
        "plt3.set_ylabel(\"acceleration $(m/s^2)$\")\n",
        "plt3.set_title('Inner Race fault (7 Conditions & Variable Load)')\n",
        "plt3.plot(IR_data_test[range_of_samples_3])\n",
        "\n",
        "fig.suptitle('MFPT Acceleration Data - test')\n",
        "fig.show()"
      ],
      "execution_count": 21,
      "outputs": [
        {
          "output_type": "display_data",
          "data": {
            "image/png": "[encoded data removed]",
            "text/plain": [
              "<Figure size 864x288 with 3 Axes>"
            ]
          },
          "metadata": {
            "tags": [],
            "needs_background": "light"
          }
        }
      ]
    },
    {
      "cell_type": "markdown",
      "metadata": {
        "id": "PeQsL9BTzo1-"
      },
      "source": [
        "# 4.Preprocessing and the architecture of the CNN\n"
      ]
    },
    {
      "cell_type": "markdown",
      "metadata": {
        "id": "0bmlIlBczrcm"
      },
      "source": [
        "This has been accomplished with the help of [this Github rep](https://github.com/dimitardi/deep-predict). \n",
        "\n",
        "The different preprocessing phases are - \n",
        "\n",
        "1. Data in chunks\n",
        "2. Feature engineering\n",
        "3. Image creating\n",
        "4. Image loading\n",
        "5. Data shuffling\n",
        "6. Convolutional Neural Network (CNN)"
      ]
    },
    {
      "cell_type": "markdown",
      "metadata": {
        "id": "PijvViP1zv_9"
      },
      "source": [
        "## 4.1 Data in chunks\n",
        "\n",
        "1. Acceleration data or signal is divided in chunks of size `chunk_size` and a subset `number_of_chunks` from all of it that is available for training and testing the CNN. \n",
        "\n",
        "2. A chunk is simply a sequential subset of the time series data with a fixed length - the `chunk_size`. \n",
        "\n",
        "3. Every chunk is distinct - no overlapping samples. \n",
        "\n",
        "4. This method is _tumbling time windowing_, more information in [blog post](https://blog.codecentric.de/en/2018/10/window-functions-in-stream-analytics/). \n",
        "\n",
        "5. Each time series is an array, with small length differences. For a fixed chunk size to divide the file, a function will split the data exactly in `number_of_chunks` of `chunk_size` and **ignore** the remaining part. \n",
        "\n",
        "6. Such a function is - `split_exact`, which takes the *array for splitting*, the *number of chunks* and the *array axis* to be split into. \n",
        "\n",
        "7. Whole dataset remains but the vector has been divided into column chunks to build a matrix. It makes passing the **whole dataset** through easier and takes **less time** for the data to load in general."
      ]
    },
    {
      "cell_type": "code",
      "metadata": {
        "id": "iYuODwPnVohZ"
      },
      "source": [
        "def split_exact(x, n_chunks=2, axis=1):\n",
        "    import numpy as np\n",
        "    l = np.shape(x)[axis]\n",
        "    x_split = x\n",
        "    if l > n_chunks > 1:\n",
        "        n = n_chunks\n",
        "        if axis == 0:\n",
        "            x_split = np.split(x[:-(l % n)], n, axis=axis)\n",
        "        elif axis == 1:\n",
        "            x_split = np.split(x[:, :-(l % n)], n, axis=axis)\n",
        "    return x_split"
      ],
      "execution_count": 22,
      "outputs": []
    },
    {
      "cell_type": "markdown",
      "metadata": {
        "id": "jQ4qpoWbz1tE"
      },
      "source": [
        "Some operations were performed on the data. \n",
        "\n",
        "For the CWRU Data only - ignoring the 0.028 inch fault diameter from `IR` and `B`, only considering the rest:\n",
        "\n",
        "* the **normal** data labelled as `N` - Baseline\n",
        "* the **inner raceway** data labelled as `IR`\n",
        "      1.for 0.007 inch fault diameter\n",
        "      2.for 0.014 inch fault diameter\n",
        "      3.for 0.021 inch fault diameter\n",
        "* the **ball** data labelled as `B`\n",
        "      1.for 0.007 inch fault diameter\n",
        "      2.for 0.014 inch fault diameter\n",
        "      3.for 0.021 inch fault diameter\n",
        "* the **outer raceway** data labelled as `OR`\n",
        "      1.for 0.007 inch fault diameter\n",
        "      2.for 0.014 inch fault diameter\n",
        "      3.for 0.021 inch fault diameter\n",
        "\n",
        "For every load, the data is joined from `0...3` HP load, normalizing it with respect to the *standard deviation*. This is because the load is not considered in *Classification*. \n",
        "\n",
        "Several functions needed, such as; `load_raw_matlab_data` which returns several multidimensional arrays for `N`, `IR`, `B` and `OR` data with dimension of the maximum `number_of_chunks` obtainable from the data, by `chunk_size`. "
      ]
    },
    {
      "cell_type": "code",
      "metadata": {
        "id": "gfZqfVmdLLqr"
      },
      "source": [
        "import numpy as np\n",
        "\n",
        "def g_data_chunkSplit(gdata, chunk_size=128):\n",
        "    \"\"\"\n",
        "    Change loaded mat files and splits it in chunks of size chunk_size\n",
        "    \"\"\"\n",
        "    y_n: ndarray = np.array([])\n",
        "    # signal\n",
        "    x = gdata\n",
        "    x = x / np.std(x)\n",
        "    y_n = np.append(y_n, x)\n",
        "    n_splits = len(y_n) // chunk_size\n",
        "    y_n = split_exact(y_n, n_chunks=n_splits, axis=0)\n",
        "\n",
        "    return y_n"
      ],
      "execution_count": 23,
      "outputs": []
    },
    {
      "cell_type": "markdown",
      "metadata": {
        "id": "F_v2gVoKgJvy"
      },
      "source": [
        "Initializing the data using the latter function."
      ]
    },
    {
      "cell_type": "markdown",
      "metadata": {
        "id": "jf-v53XttQsd"
      },
      "source": [
        "### 4.1.1 Source Domain data chunk\n",
        "CWRU 12k DE data. To match the number of classes of MFPT, the `Ball` Class was ignored completely.\n",
        "\n"
      ]
    },
    {
      "cell_type": "code",
      "metadata": {
        "id": "C__k3hDEVohe",
        "colab": {
          "base_uri": "https://localhost:8080/",
          "height": 91
        },
        "outputId": "864977d5-9e97-4de5-cff3-83445478eba5"
      },
      "source": [
        "chunk_size_1 = 1200\n",
        "number_of_chunks_1 = 1400\n",
        "\n",
        "display(\"DE data\")\n",
        "normal_data_chunk_DE = g_data_chunkSplit(G_data_N_DE, chunk_size=chunk_size_1)\n",
        "print(\"normal_data_chunk_DE\", np.shape(normal_data_chunk_DE)) \n",
        "ir_data_chunk_DE = g_data_chunkSplit(G_data_IR_DE, chunk_size=chunk_size_1)\n",
        "print(\"ir_data_chunk_DE\", np.shape(ir_data_chunk_DE))\n",
        "or_data_chunk_DE = g_data_chunkSplit(G_data_OR_DE, chunk_size=chunk_size_1)\n",
        "print(\"or_data_chunk_DE\", np.shape(or_data_chunk_DE)) "
      ],
      "execution_count": 70,
      "outputs": [
        {
          "output_type": "display_data",
          "data": {
            "application/vnd.google.colaboratory.intrinsic+json": {
              "type": "string"
            },
            "text/plain": [
              "'DE data'"
            ]
          },
          "metadata": {
            "tags": []
          }
        },
        {
          "output_type": "stream",
          "text": [
            "normal_data_chunk_DE (1415, 1200)\n",
            "ir_data_chunk_DE (1623, 1200)\n",
            "or_data_chunk_DE (2848, 1200)\n"
          ],
          "name": "stdout"
        }
      ]
    },
    {
      "cell_type": "markdown",
      "metadata": {
        "id": "3DP9JQrhtotx"
      },
      "source": [
        "### 4.1.2 Transfer Domain data chunk\n",
        "For the MFPT data. Two different `chunk sizes` and `number of chunks` as there are two different SRs."
      ]
    },
    {
      "cell_type": "code",
      "metadata": {
        "id": "ApfZINOay27_",
        "colab": {
          "base_uri": "https://localhost:8080/"
        },
        "outputId": "3dcbdfc6-7452-4e6c-81dd-bf7b41bded0e"
      },
      "source": [
        "chunk_size_2 = rounded_psr_2\n",
        "print(\"MFPT chunk size 1\", rounded_psr_2)\n",
        "number_of_chunks_2 = chunk_size_2 + 200\n",
        "chunk_size_3 = rounded_psr_3\n",
        "print(\"MFPT chunk size 2\", rounded_psr_3)\n",
        "number_of_chunks_3 = chunk_size_3 + 200\n",
        "\n",
        "nominal_data_chunk_train = g_data_chunkSplit(Nominal_data_train, chunk_size=chunk_size_2)\n",
        "print(\"nominal_data_chunk_train\", np.shape(nominal_data_chunk_train))\n",
        "ir_data_chunk_train =  g_data_chunkSplit(IR_data_train, chunk_size=chunk_size_3)\n",
        "print(\"ir_data_chunk_train\", np.shape(ir_data_chunk_train)) \n",
        "or_data_chunk_train =  g_data_chunkSplit(OR_data_train, chunk_size=chunk_size_3)\n",
        "print(\"or_data_chunk_train\", np.shape(or_data_chunk_train)) \n",
        "\n",
        "nominal_data_chunk_test = g_data_chunkSplit(Nominal_data_test, chunk_size=chunk_size_2)\n",
        "print(\"nominal_data_chunk_test\", np.shape(nominal_data_chunk_test)) \n",
        "ir_data_chunk_test =  g_data_chunkSplit(IR_data_test, chunk_size=chunk_size_3)\n",
        "print(\"ir_data_chunk_test\", np.shape(ir_data_chunk_test))\n",
        "or_data_chunk_test =  g_data_chunkSplit(OR_data_test, chunk_size=chunk_size_3)\n",
        "print(\"or_data_chunk_test\", np.shape(or_data_chunk_test))"
      ],
      "execution_count": 71,
      "outputs": [
        {
          "output_type": "stream",
          "text": [
            "MFPT chunk size 1 9765\n",
            "MFPT chunk size 2 4882\n",
            "nominal_data_chunk_train (18, 9765)\n",
            "ir_data_chunk_train (21, 4882)\n",
            "or_data_chunk_train (39, 4882)\n",
            "nominal_data_chunk_test (162, 9765)\n",
            "ir_data_chunk_test (189, 4882)\n",
            "or_data_chunk_test (351, 4882)\n"
          ],
          "name": "stdout"
        }
      ]
    },
    {
      "cell_type": "markdown",
      "metadata": {
        "id": "Ff7h1J5SVohh"
      },
      "source": [
        "## 4.2 Feature engineering"
      ]
    },
    {
      "cell_type": "markdown",
      "metadata": {
        "id": "t4eubtG90bgH"
      },
      "source": [
        "Each chunk of data is preprocessed. A time-frequency image is extracted from each *chunk* with preprocessing techniques. For all the images, a **min-max normalization** was used, to have the mapping only in the range `[0,1]`."
      ]
    },
    {
      "cell_type": "code",
      "metadata": {
        "id": "psNVZuL1Vohi"
      },
      "source": [
        "def min_max_norm(ary):\n",
        "    ary = (ary - ary.min()) / np.abs(ary.max() - ary.min())\n",
        "    return ary"
      ],
      "execution_count": 28,
      "outputs": []
    },
    {
      "cell_type": "markdown",
      "metadata": {
        "id": "VZ76VQaWVohk"
      },
      "source": [
        "### 4.2.1 Short Time Fourier Transform\n",
        "The function `generate_spectrogram_image(data_y_vector, image_shape)` takes a *time series* as input and the *resolution* of the image that it will generate. It then returns the **Short time Fourier Transform Spectrogram** which is then *normalized* in the range `[0,1]`."
      ]
    },
    {
      "cell_type": "code",
      "metadata": {
        "id": "OKw_rCcVVohl"
      },
      "source": [
        "from scipy import signal\n",
        "from skimage.transform import resize\n",
        "\n",
        "def generate_spectrogram_image(data_y_vector, image_shape, fs):\n",
        "    \"\"\"\n",
        "    Calculate the spectrogram of an array data_y_vector and resize it in \n",
        "    the image_shape resolution\n",
        "    \"\"\"\n",
        "    data_y_vector_len = np.shape(data_y_vector)[0]\n",
        "\n",
        "    f, t, sxx = signal.spectrogram(\n",
        "        data_y_vector,\n",
        "        fs)\n",
        "\n",
        "    sxx = min_max_norm(sxx)\n",
        "    sxx = resize(sxx, image_shape, mode='constant', anti_aliasing=True)\n",
        "\n",
        "    return sxx"
      ],
      "execution_count": 29,
      "outputs": []
    },
    {
      "cell_type": "markdown",
      "metadata": {
        "id": "emWy_8JJ0pxA"
      },
      "source": [
        "A look at the Short Time Fourier Transform of one chunk of the data `N`, `IR`, `B` and `OR`. From the **MFPT train** set:"
      ]
    },
    {
      "cell_type": "code",
      "metadata": {
        "id": "_8fgmA6erHqk",
        "colab": {
          "base_uri": "https://localhost:8080/",
          "height": 307
        },
        "outputId": "0936d46d-bf16-49ec-f601-9dd53783467f"
      },
      "source": [
        "fig, (plt1, plt2, plt3) = plt.subplots(1, 3, sharey = True, figsize=(12,4), constrained_layout=True)\n",
        "\n",
        "plt1.set_xlabel(\"time $(s)$\")\n",
        "plt1.set_ylabel(\"frequency $(Hz)$\")\n",
        "plt1.set_title('Nominal state (No Fault)')\n",
        "plt1.pcolormesh(generate_spectrogram_image(nominal_data_chunk_train[1], (96, 96), psr_1), shading='flat')\n",
        "\n",
        "plt2.set_xlabel(\"time $(s)$\")\n",
        "plt2.set_ylabel(\"frequency $(Hz)$\")\n",
        "plt2.set_title('Outer Race fault (Fixed & Variable Load)')\n",
        "plt2.pcolormesh(generate_spectrogram_image(or_data_chunk_train[1], (96, 96), psr_3), shading='flat')\n",
        "\n",
        "plt3.set_xlabel(\"time $(s)$\")\n",
        "plt3.set_ylabel(\"frequency $(Hz)$\")\n",
        "plt3.set_title('Inner Race fault (7 Conditions & Variable Load)')\n",
        "plt3.pcolormesh(generate_spectrogram_image(ir_data_chunk_train[1], (96, 96), psr_3), shading='flat')\n",
        "\n",
        "fig.suptitle('Short Time Fourier Transform - Resolution (96 X 96) - train')\n",
        "fig.show()"
      ],
      "execution_count": 30,
      "outputs": [
        {
          "output_type": "display_data",
          "data": {
            "image/png": "[encoded data removed]",
            "text/plain": [
              "<Figure size 864x288 with 3 Axes>"
            ]
          },
          "metadata": {
            "tags": [],
            "needs_background": "light"
          }
        }
      ]
    },
    {
      "cell_type": "markdown",
      "metadata": {
        "id": "pRR1wujON6T7"
      },
      "source": [
        "## 4.3 Image creating and Data shuffling"
      ]
    },
    {
      "cell_type": "markdown",
      "metadata": {
        "id": "lLG9oRAEN-Dv"
      },
      "source": [
        "Several images are created that are going to be used to train the CNN. Some functions are needed to help in creating the folders in which the images will be stored and to label correctly the files generated, depending on the parameters chosen, such as `position`, `image_type`, `image_shape`, etc. \n",
        "\n",
        "A random shuffling is done between the chunks at this stage, so the CNN does not get trained on images that are of adjacent time windows."
      ]
    },
    {
      "cell_type": "markdown",
      "metadata": {
        "id": "BZG6Yqfm4-G1"
      },
      "source": [
        "### 4.3.1 Directory \n",
        "Creating directory for putting the created images. These images will also be loaded from here."
      ]
    },
    {
      "cell_type": "code",
      "metadata": {
        "id": "7trHSIv-VXiV"
      },
      "source": [
        "def try_make_directories():     \n",
        "    data_directories = [\"dataset\", \"npy_dataset\"]\n",
        "    for directory in data_directories:\n",
        "        try:\n",
        "            os.makedirs(f'./{directory}')\n",
        "        except OSError as e:\n",
        "            if e.errno != errno.EEXIST:\n",
        "                raise"
      ],
      "execution_count": 31,
      "outputs": []
    },
    {
      "cell_type": "markdown",
      "metadata": {
        "id": "jb0rhwe-xTsk"
      },
      "source": [
        "The function `generate_rgba_images_from_data` has been called separately for DE as the Sampling Rate is different"
      ]
    },
    {
      "cell_type": "code",
      "metadata": {
        "id": "vWOS0m3GgwZm"
      },
      "source": [
        "from tqdm.notebook import tqdm\n",
        "from enum import Enum\n",
        "#\n",
        "def create_image_by_label_database(\n",
        "        position,\n",
        "        image_types,\n",
        "        image_shape,\n",
        "        noise_scale = 0.0,\n",
        "        shuffle_across_time=True,\n",
        "        overwrite_existing_file=False):\n",
        "\n",
        "    try_make_directories()\n",
        "\n",
        "    filename_for_images_by_labels = npy_dataset_filename(\n",
        "        position,\n",
        "        image_types,\n",
        "        image_shape,\n",
        "        noise_scale, \n",
        "        shuffle_across_time\n",
        "    )\n",
        "\n",
        "    if overwrite_existing_file is False:\n",
        "        import os\n",
        "        if os.path.isfile(filename_for_images_by_labels):\n",
        "            print(\n",
        "                \"File already exists. Use 'overwrite_existing_file' if you wish to regenerate and overwrite it. Bye.\")\n",
        "            return\n",
        "#   \n",
        "    if position == \"DE\":\n",
        "      len_n = np.shape(normal_data_chunk_DE)[0]\n",
        "      len_ir = np.shape(ir_data_chunk_DE)[0]\n",
        "      len_or = np.shape(or_data_chunk_DE)[0]\n",
        "      len_data = min(len_n, len_ir, len_or, number_of_chunks_1)\n",
        "   \n",
        "      normal_data = normal_data_chunk_DE\n",
        "      ir_data = ir_data_chunk_DE\n",
        "      or_data = or_data_chunk_DE\n",
        "\n",
        "      if shuffle_across_time:\n",
        "          # so the first N chunks will be taken at random time from the whole time window\n",
        "          np.random.shuffle(normal_data)\n",
        "          np.random.shuffle(ir_data)\n",
        "          np.random.shuffle(or_data)\n",
        "        \n",
        "      images_by_labels = {'n': [], 'ir': [], 'or': []}\n",
        "\n",
        "      #1\n",
        "      for i in tqdm(range(int(len_n))):\n",
        "          n_images = generate_rgba_images_from_data(normal_data[i], image_shape, image_types, 12000)\n",
        "\n",
        "          images_by_labels['n'].extend(n_images)\n",
        "      #2\n",
        "      for i in tqdm(np.arange(len_ir)):\n",
        "          ir_images = generate_rgba_images_from_data(ir_data[i], image_shape, image_types, 12000)\n",
        "        \n",
        "          images_by_labels['ir'].extend(ir_images)\n",
        "      #3\n",
        "      for i in tqdm(np.arange(len_or)):    \n",
        "          or_images = generate_rgba_images_from_data(or_data[i], image_shape, image_types, 12000)\n",
        "        \n",
        "          images_by_labels['or'].extend(or_images)\n",
        "\n",
        "    elif position == \"MFPT_train\":\n",
        "      len_n = np.shape(nominal_data_chunk_train)[0]\n",
        "      len_ir = np.shape(ir_data_chunk_train)[0]\n",
        "      len_or = np.shape(or_data_chunk_train)[0]\n",
        "      len_data = min(len_n, len_or, len_ir, number_of_chunks_2, number_of_chunks_3)\n",
        "      \n",
        "      nominal_data = nominal_data_chunk_train\n",
        "      ir_data = ir_data_chunk_train\n",
        "      or_data = or_data_chunk_train\n",
        "\n",
        "    elif position == \"MFPT_test\":\n",
        "      len_n = np.shape(nominal_data_chunk_test)[0]\n",
        "      len_ir = np.shape(ir_data_chunk_test)[0]\n",
        "      len_or = np.shape(or_data_chunk_test)[0]\n",
        "      len_data = min(len_n, len_or, len_ir, number_of_chunks_2, number_of_chunks_3)\n",
        "    \n",
        "      nominal_data = nominal_data_chunk_test\n",
        "      ir_data = ir_data_chunk_test\n",
        "      or_data = or_data_chunk_test\n",
        "\n",
        "    if 'MFPT' in position:\n",
        "      if shuffle_across_time:\n",
        "        # so the first N chunks will be taken at random time from the whole time window\n",
        "        np.random.shuffle(nominal_data)\n",
        "        np.random.shuffle(ir_data)\n",
        "        np.random.shuffle(or_data)\n",
        "        \n",
        "        \n",
        "      images_by_labels = {'n': [], 'ir': [], 'or': []}\n",
        "\n",
        "      for i in tqdm(range(int(len_n))):\n",
        "          n_images = generate_rgba_images_from_data(nominal_data[i], image_shape, image_types, psr_1)\n",
        "\n",
        "          images_by_labels['n'].extend(n_images)\n",
        "\n",
        "      for i in tqdm(range(int(len_ir))):\n",
        "          ir_images = generate_rgba_images_from_data(ir_data[i], image_shape, image_types, psr_3)  \n",
        "\n",
        "          images_by_labels['ir'].extend(ir_images)\n",
        "\n",
        "      for i in tqdm(range(int(len_or))):\n",
        "          or_images = generate_rgba_images_from_data(or_data[i], image_shape, image_types, psr_3)      \n",
        "\n",
        "          images_by_labels['or'].extend(or_images)\n",
        "\n",
        "    print(f'Saving {filename_for_images_by_labels}')\n",
        "    np.save(f'{filename_for_images_by_labels}', images_by_labels)\n",
        "        \n",
        "#\n",
        "def npy_dataset_filename(\n",
        "        position,\n",
        "        image_types,\n",
        "        image_shape,\n",
        "        noise_scale,\n",
        "        shuffled_across_time):\n",
        "    filename_suffix = \\\n",
        "        (f'_Position_{position}') + \\\n",
        "        f'_types{\"-\".join([str(t)[10:12] for t in image_types])}' + \\\n",
        "        (f'_noise{noise_scale}' if noise_scale > 0 else '') + \\\n",
        "        (f'_timeshuffled' if shuffled_across_time else '') + \\\n",
        "        f'_shape{image_shape[0]}-{image_shape[1]}'\n",
        "    filename = f'./npy_dataset/images_by_labels_for_cnn{filename_suffix}.npy'\n",
        "    return filename\n",
        "#\n",
        "#\n",
        "def generate_rgba_images_from_data(\n",
        "        vector_y_data,\n",
        "        image_shape,\n",
        "        image_types,\n",
        "        fsa):\n",
        "    images = []\n",
        "    if ImageType.SPECTROGRAM in image_types:\n",
        "        images.append(generate_spectrogram_image(vector_y_data, image_shape, fsa))\n",
        "\n",
        "    images_rgba = ary_to_rgba(images)\n",
        "\n",
        "    return images_rgba\n",
        "#\n",
        "#\n",
        "def ary_to_rgba(ary, nchannels=1):\n",
        "    from matplotlib import cm\n",
        "\n",
        "    ary_dim = (np.shape(ary))\n",
        "\n",
        "    im = np.empty(shape=(ary_dim[0], ary_dim[1], ary_dim[2], nchannels)).astype('uint8')\n",
        "    for i in np.arange(0, len(ary)):\n",
        "        im[i, :] = np.log(ary[i] + 1e-6).reshape(ary_dim[0], ary_dim[1], ary_dim[2], nchannels)\n",
        "    return im\n",
        "#\n",
        "\n",
        "class ImageType(Enum):\n",
        "    SCALOGRAM = 1\n",
        "    SPECTROGRAM = 2\n",
        "    QTRANSFORM = 3"
      ],
      "execution_count": 36,
      "outputs": []
    },
    {
      "cell_type": "markdown",
      "metadata": {
        "id": "e75rQTjcH58V"
      },
      "source": [
        "### 4.3.2 Image creating\n",
        "The parameters of the preprocessing are: "
      ]
    },
    {
      "cell_type": "markdown",
      "metadata": {
        "id": "C86pqwBkh2R_"
      },
      "source": [
        "Transfer Learning \n",
        "- Source Domain = 12k DE data for train"
      ]
    },
    {
      "cell_type": "code",
      "metadata": {
        "id": "KqndGemfunpf",
        "colab": {
          "base_uri": "https://localhost:8080/",
          "height": 186,
          "referenced_widgets": [
            "58386a8c16a249ca9f60c8eac45110fd",
            "d78984f76f9b431182be2b22f452d80e",
            "e0ce83bc9ced49c8bd7072ed105f7e09",
            "697702f510ef4c05a0a364c1f5355d74",
            "d825c39ba1a54903bc72664e1dd959e6",
            "8ab5ac67b4c54d7683ebe4fa491636c9",
            "ede1b80ad0204a64b2e98d29b2fc13a5",
            "49059623487943ec9f5442c0faa31cf5",
            "3308420714054aaaa231b4a360154fdd",
            "bd9dea4d7fc14008b0a766416f9bb7e9",
            "900b1ceb233e4d4b88e4c51de0e0a14a",
            "bc6d4fcc3eb346e18af419f2418e18f6",
            "62d8abf7dd284796aa0fca25481a331b",
            "bd2c8ddda75f4f958e81329e5a8463cf",
            "639e863b9d0646b98e57af745ae1a45c",
            "a5140407077843c694de57519f3869a1",
            "9a74e08033c04506b2c39f2b7fec06e7",
            "daac1f9ed42648dc8000297c761d1134",
            "86addc51868d425996034ec22d5d6a38",
            "a18c3bcd0057418aaa145bfa0b07a39c",
            "c0c3e9073fe2472daa3f78290a733e9c",
            "26c7bd753fea468c800ed8befd215176",
            "fad644d5df0345d4b0575f05bf89a0f8",
            "4fa462a7450743809eb12ce82e2480a2"
          ]
        },
        "outputId": "d9bd5238-08f3-42e1-97ae-14b3534a942c"
      },
      "source": [
        "create_image_by_label_database(\n",
        "    position=\"DE\", \n",
        "    image_types=[ImageType.SPECTROGRAM], \n",
        "    image_shape=(96, 96), \n",
        "    shuffle_across_time=True,\n",
        "    overwrite_existing_file=True)"
      ],
      "execution_count": 37,
      "outputs": [
        {
          "output_type": "display_data",
          "data": {
            "application/vnd.jupyter.widget-view+json": {
              "model_id": "58386a8c16a249ca9f60c8eac45110fd",
              "version_minor": 0,
              "version_major": 2
            },
            "text/plain": [
              "HBox(children=(FloatProgress(value=0.0, max=1415.0), HTML(value='')))"
            ]
          },
          "metadata": {
            "tags": []
          }
        },
        {
          "output_type": "stream",
          "text": [
            "\n"
          ],
          "name": "stdout"
        },
        {
          "output_type": "display_data",
          "data": {
            "application/vnd.jupyter.widget-view+json": {
              "model_id": "3308420714054aaaa231b4a360154fdd",
              "version_minor": 0,
              "version_major": 2
            },
            "text/plain": [
              "HBox(children=(FloatProgress(value=0.0, max=1623.0), HTML(value='')))"
            ]
          },
          "metadata": {
            "tags": []
          }
        },
        {
          "output_type": "stream",
          "text": [
            "\n"
          ],
          "name": "stdout"
        },
        {
          "output_type": "display_data",
          "data": {
            "application/vnd.jupyter.widget-view+json": {
              "model_id": "9a74e08033c04506b2c39f2b7fec06e7",
              "version_minor": 0,
              "version_major": 2
            },
            "text/plain": [
              "HBox(children=(FloatProgress(value=0.0, max=2848.0), HTML(value='')))"
            ]
          },
          "metadata": {
            "tags": []
          }
        },
        {
          "output_type": "stream",
          "text": [
            "\n",
            "Saving ./npy_dataset/images_by_labels_for_cnn_Position_DE_typesSP_timeshuffled_shape96-96.npy\n"
          ],
          "name": "stdout"
        }
      ]
    },
    {
      "cell_type": "markdown",
      "metadata": {
        "id": "pgXDNJnGwidq"
      },
      "source": [
        "Transfer Learning \n",
        "- Target Domain = 90% MFPT data for Test"
      ]
    },
    {
      "cell_type": "code",
      "metadata": {
        "id": "P1Cy2P24sKbA",
        "colab": {
          "base_uri": "https://localhost:8080/",
          "height": 186,
          "referenced_widgets": [
            "e23054ee936e4eb3b4f47c1d69e9a55b",
            "cc9f09672add4ef3860e9125aa204e3e",
            "7a4a1947e82f4903a165a5c5332c438b",
            "9d65d2a893d04529a4aee31175be9991",
            "809a8084fe80436da7ba225ef0e0ba07",
            "d8e06a2697cc41c98a4592abd5b57d40",
            "90a0709fd3ac4192a54f3e3010b0187a",
            "fc72cd5d6fc5489cb4dd47dee418eea3",
            "c56ba3de4a4a422aac6e1a48892e72b4",
            "7d3fe73ce89445599220e1f6fbdf1a2e",
            "40b207dd7a68497eb2a8b386ad93fe40",
            "8c4204044cc543df90deebbcea6e3df0",
            "9b988d83ab524342bd39f6cdb02ad29d",
            "816f8bab5ea34d218e350652b7124ec5",
            "636e00321ac64aa5a6eb658bc9acc6ae",
            "5187e6d333a44a4ea34e780def25bec1",
            "f62e7651264b42709ae3c7fe6715dcd2",
            "80749d3b261149018b0f199155956103",
            "232d959f3ca6430d9b002b99d5c543bb",
            "950965cb0f1141a5b62664ed89613eae",
            "0208759066464413bd64ee936f92082e",
            "ef7867dd744043faa6cc6df887b5cce7",
            "634103c8c2ec499faa52ec8630a20cce",
            "8e361a31f58741d3bcf10ef2933f5957"
          ]
        },
        "outputId": "f26b93a7-ac95-4ec1-d35c-a8984d206b33"
      },
      "source": [
        "create_image_by_label_database(\n",
        "    position=\"MFPT_test\", \n",
        "    image_types=[ImageType.SPECTROGRAM], \n",
        "    image_shape=(96, 96), \n",
        "    shuffle_across_time=True,\n",
        "    overwrite_existing_file=True)"
      ],
      "execution_count": 38,
      "outputs": [
        {
          "output_type": "display_data",
          "data": {
            "application/vnd.jupyter.widget-view+json": {
              "model_id": "e23054ee936e4eb3b4f47c1d69e9a55b",
              "version_minor": 0,
              "version_major": 2
            },
            "text/plain": [
              "HBox(children=(FloatProgress(value=0.0, max=162.0), HTML(value='')))"
            ]
          },
          "metadata": {
            "tags": []
          }
        },
        {
          "output_type": "stream",
          "text": [
            "\n"
          ],
          "name": "stdout"
        },
        {
          "output_type": "display_data",
          "data": {
            "application/vnd.jupyter.widget-view+json": {
              "model_id": "c56ba3de4a4a422aac6e1a48892e72b4",
              "version_minor": 0,
              "version_major": 2
            },
            "text/plain": [
              "HBox(children=(FloatProgress(value=0.0, max=189.0), HTML(value='')))"
            ]
          },
          "metadata": {
            "tags": []
          }
        },
        {
          "output_type": "stream",
          "text": [
            "\n"
          ],
          "name": "stdout"
        },
        {
          "output_type": "display_data",
          "data": {
            "application/vnd.jupyter.widget-view+json": {
              "model_id": "f62e7651264b42709ae3c7fe6715dcd2",
              "version_minor": 0,
              "version_major": 2
            },
            "text/plain": [
              "HBox(children=(FloatProgress(value=0.0, max=351.0), HTML(value='')))"
            ]
          },
          "metadata": {
            "tags": []
          }
        },
        {
          "output_type": "stream",
          "text": [
            "\n",
            "Saving ./npy_dataset/images_by_labels_for_cnn_Position_MFPT_test_typesSP_timeshuffled_shape96-96.npy\n"
          ],
          "name": "stdout"
        }
      ]
    },
    {
      "cell_type": "markdown",
      "metadata": {
        "id": "b9U0PbsUXqBi"
      },
      "source": [
        "## 4.4 Preparing Train-Test Data "
      ]
    },
    {
      "cell_type": "markdown",
      "metadata": {
        "id": "riy5rfwbIRr8"
      },
      "source": [
        "### 4.4.1 Image loading\n",
        "Now to define a function that loads the images that were generated.\n"
      ]
    },
    {
      "cell_type": "code",
      "metadata": {
        "id": "ZUHcHHnRVoh5"
      },
      "source": [
        "def load_images_by_labels_by_params(\n",
        "        position,\n",
        "        image_types ,\n",
        "        image_shape,\n",
        "        noise_scale = 0.0,\n",
        "        chunks_are_shuffled_across_time=True):\n",
        "    filename = npy_dataset_filename(\n",
        "        position,\n",
        "        image_types,\n",
        "        image_shape,\n",
        "        noise_scale,\n",
        "        chunks_are_shuffled_across_time)\n",
        "\n",
        "    loaded = np.load(filename, allow_pickle=True)\n",
        "    print(f\"Successfully loaded file {filename}\")\n",
        "    return loaded.item()  # item() gets the actual dictionary from the loaded object"
      ],
      "execution_count": 39,
      "outputs": []
    },
    {
      "cell_type": "markdown",
      "metadata": {
        "id": "Rc1Km833ZYua"
      },
      "source": [
        "With the aid of the previous function the images for *DE* and *train* is loaded"
      ]
    },
    {
      "cell_type": "code",
      "metadata": {
        "id": "fq8u9Aryu0ru",
        "colab": {
          "base_uri": "https://localhost:8080/"
        },
        "outputId": "e90d3fba-afb9-4cef-d24a-dc37a5e16a86"
      },
      "source": [
        "position = \"DE\"\n",
        "image_types=[ImageType.SPECTROGRAM]\n",
        "image_shape = (96, 96)\n",
        "shuffle_chunks_across_time=True\n",
        "\n",
        "images_by_labels_for_cnn_train_1 = load_images_by_labels_by_params(\n",
        "    position=position,    \n",
        "    image_types=image_types, \n",
        "    image_shape=image_shape,\n",
        "    chunks_are_shuffled_across_time=shuffle_chunks_across_time)"
      ],
      "execution_count": 40,
      "outputs": [
        {
          "output_type": "stream",
          "text": [
            "Successfully loaded file ./npy_dataset/images_by_labels_for_cnn_Position_DE_typesSP_timeshuffled_shape96-96.npy\n"
          ],
          "name": "stdout"
        }
      ]
    },
    {
      "cell_type": "markdown",
      "metadata": {
        "id": "Wz6u3a8BteJW"
      },
      "source": [
        "With the aid of the previous function the images for *MFPT* and *test* is loaded. This is the *test split* of 90%."
      ]
    },
    {
      "cell_type": "code",
      "metadata": {
        "id": "InYPoQnLvJbq",
        "colab": {
          "base_uri": "https://localhost:8080/"
        },
        "outputId": "5d0bdc05-c12f-443e-eab7-c8a72357a966"
      },
      "source": [
        "position = \"MFPT_test\"\n",
        "image_types=[ImageType.SPECTROGRAM]\n",
        "image_shape = (96, 96)\n",
        "shuffle_chunks_across_time=True\n",
        "\n",
        "images_by_labels_for_cnn_test = load_images_by_labels_by_params(\n",
        "    position=position,    \n",
        "    image_types=image_types, \n",
        "    image_shape=image_shape,\n",
        "    chunks_are_shuffled_across_time=shuffle_chunks_across_time)"
      ],
      "execution_count": 41,
      "outputs": [
        {
          "output_type": "stream",
          "text": [
            "Successfully loaded file ./npy_dataset/images_by_labels_for_cnn_Position_MFPT_test_typesSP_timeshuffled_shape96-96.npy\n"
          ],
          "name": "stdout"
        }
      ]
    },
    {
      "cell_type": "markdown",
      "metadata": {
        "id": "fLUJlwpfI5IO"
      },
      "source": [
        "### 4.4.2 Image separation\n",
        "Now, to transform the data to be suitable for the CNN input:\n",
        "- the images and their labels need to be separated into two arrays, correlated by their indices\n",
        "- the labels are to be one-hot encoded (i.e. label \"N\" becomes (0,0,1))\n"
      ]
    },
    {
      "cell_type": "code",
      "metadata": {
        "id": "qIVPJmQ8Voh-"
      },
      "source": [
        "from itertools import zip_longest\n",
        "\n",
        "def separate_images_from_labels(images_by_labels, interleave: bool):\n",
        "    all_labels = list(images_by_labels.keys())\n",
        "    \n",
        "    NB_CLASSES = len(all_labels)\n",
        "    all_labels_onehot = np.identity(NB_CLASSES).astype('uint8')\n",
        "    label_to_onehot_mapper = {all_labels[i]: all_labels_onehot[i] for i in np.arange(NB_CLASSES)}\n",
        "\n",
        "    all_images_for_cnn = []\n",
        "    all_labels_for_cnn_onehot = []\n",
        "\n",
        "    for key in all_labels:\n",
        "        images = images_by_labels[key]\n",
        "        labels_onehot = np.full(shape=(len(images), NB_CLASSES), fill_value=label_to_onehot_mapper[key])\n",
        "\n",
        "        all_images_for_cnn.append(images)\n",
        "        all_labels_for_cnn_onehot.append(labels_onehot)\n",
        "\n",
        "    if interleave:\n",
        "        all_images_for_cnn = lists_interleave(all_images_for_cnn)\n",
        "        all_labels_for_cnn_onehot = lists_interleave(all_labels_for_cnn_onehot)\n",
        "    else:  # flatten the lists\n",
        "        all_images_for_cnn = [image for sublist in all_images_for_cnn for image in sublist]\n",
        "        all_labels_for_cnn_onehot = [label for sublist in all_labels_for_cnn_onehot for label in sublist]\n",
        "\n",
        "    return np.array(all_images_for_cnn), np.array(all_labels_for_cnn_onehot)\n",
        "                               \n",
        "def lists_interleave(lists):\n",
        "    return [val for tup in zip(*lists) for val in tup]"
      ],
      "execution_count": 72,
      "outputs": []
    },
    {
      "cell_type": "markdown",
      "metadata": {
        "id": "o_gC-FzjcJrW"
      },
      "source": [
        "The last step before training is to separate the *training set* and the *testing set* \"images with labels\" into the images and their corresponding labels."
      ]
    },
    {
      "cell_type": "code",
      "metadata": {
        "id": "1Qh2oP54VoiC"
      },
      "source": [
        "images_train_1, labels_train_1_onehot = separate_images_from_labels(images_by_labels_for_cnn_train_1, interleave=False)\n",
        "images_test, labels_test_onehot = separate_images_from_labels(images_by_labels_for_cnn_test, interleave=False)"
      ],
      "execution_count": 74,
      "outputs": []
    },
    {
      "cell_type": "markdown",
      "metadata": {
        "id": "gRLHIUtdemuI"
      },
      "source": [
        "### 4.4.3 Image and label shuffling\n",
        "Additionally, for a good distribution of data types accross the training and test data, the data is interleaved. It is for all of the 3 types of data and random shuffle is done while keeping the labels for values intact.\n",
        "\n",
        "A single array is taken, containing all the images, where sequential images are always of a different data type (N, IR, B, OR) in the form [..., \"N\", \"IR\", \"OR\", \"N\", \"IR\",...]."
      ]
    },
    {
      "cell_type": "code",
      "metadata": {
        "id": "NRlPmgmKuwKz"
      },
      "source": [
        "random_idx = np.random.permutation(np.arange(0,images_train_1.shape[0]))\n",
        "random_idx_test = np.random.permutation(np.arange(0,images_test.shape[0]))"
      ],
      "execution_count": 46,
      "outputs": []
    },
    {
      "cell_type": "code",
      "metadata": {
        "id": "JfEscme6vHmJ"
      },
      "source": [
        "images_train_1 = images_train_1[random_idx]\n",
        "labels_train_1_onehot = labels_train_1_onehot[random_idx]\n",
        "images_test = images_test[random_idx_test]\n",
        "labels_test_onehot = labels_test_onehot[random_idx_test]"
      ],
      "execution_count": 47,
      "outputs": []
    },
    {
      "cell_type": "markdown",
      "metadata": {
        "id": "7Gzbd_vdeNow"
      },
      "source": [
        "## 4.5 **Convolutional Neural Network**\n",
        "The CNN architecture used in this notebook is from the paper [Deep Learning Enabled Fault Diagnosis Using Time-Frequency Image Analysis of Rolling Element Bearings](https://www.hindawi.com/journals/sv/2017/5067651/). It is a proposed architecture. \n",
        "This architecture is used due to the resolution of the image and it yields very good results in terms of precision."
      ]
    },
    {
      "cell_type": "markdown",
      "metadata": {
        "id": "86pWLCIdeTPm"
      },
      "source": [
        "### 4.5.1 CNN model with Keras\n",
        "It is a supervised classification problem, with 10 classes. A Convolutional Neural Network (CNN) is implemented as a **Sequential Keras model**. This **Keras model** uses **TensorFlow** as backend for the tensor arithmetics. \n",
        "\n",
        "The images that were previously generated, form a tuple `(number of images, x dpi, y dpi, number of channels)`. The *loss function* is **categorical cross-entropy**, the *optimizer* is **ADAM** and **Leaky RELU** is the *activation function* used after each Convolution layer. The *learning rate* has been tested to different values and in the end **learning rate decay** was followed manually for that matter."
      ]
    },
    {
      "cell_type": "code",
      "metadata": {
        "id": "KvmO0K0LVoiF"
      },
      "source": [
        "from keras import optimizers\n",
        "\n",
        "## input data parameters\n",
        "IMAGES_SHAPE = (96, 96, 1)\n",
        "PADDING = 'same'\n",
        "KERNEL_SIZE = (3, 3)\n",
        "KERNEL_INITIALIZER = 'glorot_normal'\n",
        "# parameters for deep layers\n",
        "NUMBER_OF_CLASSES = 3  #N, IR, OR \n",
        "DROPOUT = 0.4\n",
        "LEAK_ALPHA = 0.1\n",
        "MAX_POOLING_POOL_SIZE = (2, 2)\n",
        "ACTIVATION_LAYER_FUNCTION = 'softmax'\n",
        "# loss and optimizer\n",
        "LOSS_FUNCTION = 'categorical_crossentropy'\n",
        "LEARNING_RATE = 0.001 #default\n",
        "OPTIMIZER = optimizers.Adam(LEARNING_RATE, epsilon=10e-6)"
      ],
      "execution_count": 48,
      "outputs": []
    },
    {
      "cell_type": "code",
      "metadata": {
        "id": "U_H1rqAxVoiH",
        "colab": {
          "base_uri": "https://localhost:8080/"
        },
        "outputId": "fbad77cc-d8ac-4639-e3aa-164308cce287"
      },
      "source": [
        "import keras\n",
        "from keras.models import Sequential\n",
        "from keras.layers.core import Dense, Dropout, Activation, Flatten\n",
        "from keras.layers.convolutional import Conv2D, MaxPooling2D\n",
        "from keras.layers import LeakyReLU\n",
        "from keras import metrics\n",
        "\n",
        "\n",
        "# CNN architecture from Guo et al.\n",
        "model = Sequential()\n",
        "model.add(Conv2D(32, KERNEL_SIZE,                  \n",
        "                 input_shape=IMAGES_SHAPE,\n",
        "                 data_format='channels_last',\n",
        "                 kernel_initializer=KERNEL_INITIALIZER,                 \n",
        "                 padding=PADDING))\n",
        "model.add(LeakyReLU(LEAK_ALPHA))\n",
        "model.add(Conv2D(32, KERNEL_SIZE, \n",
        "                 kernel_initializer=KERNEL_INITIALIZER,\n",
        "                 padding=PADDING))\n",
        "model.add(LeakyReLU(LEAK_ALPHA))\n",
        "model.add(MaxPooling2D(pool_size=MAX_POOLING_POOL_SIZE))\n",
        "model.add(Conv2D(64, KERNEL_SIZE, \n",
        "                 kernel_initializer=KERNEL_INITIALIZER,\n",
        "                 padding=PADDING))\n",
        "model.add(LeakyReLU(LEAK_ALPHA))\n",
        "model.add(Conv2D(64, KERNEL_SIZE, \n",
        "                 kernel_initializer=KERNEL_INITIALIZER,\n",
        "                 padding=PADDING))\n",
        "model.add(LeakyReLU(LEAK_ALPHA))\n",
        "model.add(MaxPooling2D(pool_size=MAX_POOLING_POOL_SIZE))\n",
        "model.add(Conv2D(128, KERNEL_SIZE, \n",
        "                 kernel_initializer=KERNEL_INITIALIZER,\n",
        "                 padding=PADDING))\n",
        "model.add(LeakyReLU(LEAK_ALPHA))\n",
        "model.add(Conv2D(128, KERNEL_SIZE, \n",
        "                 kernel_initializer=KERNEL_INITIALIZER,\n",
        "                 padding=PADDING))\n",
        "model.add(LeakyReLU(LEAK_ALPHA))\n",
        "model.add(MaxPooling2D(pool_size=MAX_POOLING_POOL_SIZE))\n",
        "model.add(Flatten())\n",
        "model.add(Dense(100))\n",
        "model.add(LeakyReLU(LEAK_ALPHA))\n",
        "model.add(Dropout(DROPOUT))\n",
        "model.add(Dense(100))\n",
        "model.add(LeakyReLU(LEAK_ALPHA))\n",
        "model.add(Dropout(DROPOUT))\n",
        "model.add(Dense(NUMBER_OF_CLASSES))\n",
        "model.add(Activation(ACTIVATION_LAYER_FUNCTION))\n",
        "\n",
        "model.compile(loss=LOSS_FUNCTION, \n",
        "              optimizer=OPTIMIZER,\n",
        "              metrics=[metrics.categorical_accuracy])  \n",
        "model.summary()"
      ],
      "execution_count": 49,
      "outputs": [
        {
          "output_type": "stream",
          "text": [
            "Model: \"sequential\"\n",
            "_________________________________________________________________\n",
            "Layer (type)                 Output Shape              Param #   \n",
            "=================================================================\n",
            "conv2d (Conv2D)              (None, 96, 96, 32)        320       \n",
            "_________________________________________________________________\n",
            "leaky_re_lu (LeakyReLU)      (None, 96, 96, 32)        0         \n",
            "_________________________________________________________________\n",
            "conv2d_1 (Conv2D)            (None, 96, 96, 32)        9248      \n",
            "_________________________________________________________________\n",
            "leaky_re_lu_1 (LeakyReLU)    (None, 96, 96, 32)        0         \n",
            "_________________________________________________________________\n",
            "max_pooling2d (MaxPooling2D) (None, 48, 48, 32)        0         \n",
            "_________________________________________________________________\n",
            "conv2d_2 (Conv2D)            (None, 48, 48, 64)        18496     \n",
            "_________________________________________________________________\n",
            "leaky_re_lu_2 (LeakyReLU)    (None, 48, 48, 64)        0         \n",
            "_________________________________________________________________\n",
            "conv2d_3 (Conv2D)            (None, 48, 48, 64)        36928     \n",
            "_________________________________________________________________\n",
            "leaky_re_lu_3 (LeakyReLU)    (None, 48, 48, 64)        0         \n",
            "_________________________________________________________________\n",
            "max_pooling2d_1 (MaxPooling2 (None, 24, 24, 64)        0         \n",
            "_________________________________________________________________\n",
            "conv2d_4 (Conv2D)            (None, 24, 24, 128)       73856     \n",
            "_________________________________________________________________\n",
            "leaky_re_lu_4 (LeakyReLU)    (None, 24, 24, 128)       0         \n",
            "_________________________________________________________________\n",
            "conv2d_5 (Conv2D)            (None, 24, 24, 128)       147584    \n",
            "_________________________________________________________________\n",
            "leaky_re_lu_5 (LeakyReLU)    (None, 24, 24, 128)       0         \n",
            "_________________________________________________________________\n",
            "max_pooling2d_2 (MaxPooling2 (None, 12, 12, 128)       0         \n",
            "_________________________________________________________________\n",
            "flatten (Flatten)            (None, 18432)             0         \n",
            "_________________________________________________________________\n",
            "dense (Dense)                (None, 100)               1843300   \n",
            "_________________________________________________________________\n",
            "leaky_re_lu_6 (LeakyReLU)    (None, 100)               0         \n",
            "_________________________________________________________________\n",
            "dropout (Dropout)            (None, 100)               0         \n",
            "_________________________________________________________________\n",
            "dense_1 (Dense)              (None, 100)               10100     \n",
            "_________________________________________________________________\n",
            "leaky_re_lu_7 (LeakyReLU)    (None, 100)               0         \n",
            "_________________________________________________________________\n",
            "dropout_1 (Dropout)          (None, 100)               0         \n",
            "_________________________________________________________________\n",
            "dense_2 (Dense)              (None, 3)                 303       \n",
            "_________________________________________________________________\n",
            "activation (Activation)      (None, 3)                 0         \n",
            "=================================================================\n",
            "Total params: 2,140,135\n",
            "Trainable params: 2,140,135\n",
            "Non-trainable params: 0\n",
            "_________________________________________________________________\n"
          ],
          "name": "stdout"
        }
      ]
    },
    {
      "cell_type": "code",
      "metadata": {
        "id": "oDKApTfdMyqV",
        "colab": {
          "base_uri": "https://localhost:8080/",
          "height": 1000
        },
        "outputId": "c62686b8-eb88-483a-a559-3f651dd252dc"
      },
      "source": [
        "keras.utils.plot_model(model, \"my_first_model.png\")"
      ],
      "execution_count": 50,
      "outputs": [
        {
          "output_type": "execute_result",
          "data": {
            "image/png": "[encoded data removed]",
            "text/plain": [
              "<IPython.core.display.Image object>"
            ]
          },
          "metadata": {
            "tags": []
          },
          "execution_count": 50
        }
      ]
    },
    {
      "cell_type": "code",
      "metadata": {
        "id": "ERG4RM0hM4x_",
        "colab": {
          "base_uri": "https://localhost:8080/",
          "height": 1000
        },
        "outputId": "eadd12e0-131d-479f-a5f4-e0f1e3914b7a"
      },
      "source": [
        "keras.utils.plot_model(model, \"my_first_model_with_shape_info.png\", show_shapes=True)"
      ],
      "execution_count": 51,
      "outputs": [
        {
          "output_type": "execute_result",
          "data": {
            "image/png": "[encoded data removed]",
            "text/plain": [
              "<IPython.core.display.Image object>"
            ]
          },
          "metadata": {
            "tags": []
          },
          "execution_count": 51
        }
      ]
    },
    {
      "cell_type": "markdown",
      "metadata": {
        "id": "NRhizaxtee4L"
      },
      "source": [
        "### 4.5.2 Training the CNN\n",
        "The CNN is trained with the Source Domain or the 12k CWRU DE data and a validation set of 90% of the *Transfer or Target Domain* or the test of the *image batch size* and over 50 epochs. It will be then tested on the hold-out data (same test set). "
      ]
    },
    {
      "cell_type": "markdown",
      "metadata": {
        "id": "mA7aCtvPkByp"
      },
      "source": [
        "### Train "
      ]
    },
    {
      "cell_type": "code",
      "metadata": {
        "id": "yy0TLnFSsmQh"
      },
      "source": [
        "import tensorflow as tf\n",
        "callback = tf.keras.callbacks.EarlyStopping(monitor='val_loss', min_delta=0, patience=10, verbose=0, mode='auto')\n",
        "# This callback will stop the training when there is no improvement in\n",
        "# the validation loss for 10 consecutive epochs."
      ],
      "execution_count": 52,
      "outputs": []
    },
    {
      "cell_type": "code",
      "metadata": {
        "id": "qOd-c71lY07o",
        "colab": {
          "base_uri": "https://localhost:8080/"
        },
        "outputId": "49b4315f-8a6c-41ea-9dad-c33dbf31a39c"
      },
      "source": [
        "BATCH_SIZE = 64\n",
        "NUMBER_OF_EPOCHS = 50\n",
        "\n",
        "history = model.fit(\n",
        "    images_train_1, labels_train_1_onehot,\n",
        "    batch_size=BATCH_SIZE,\n",
        "    epochs=NUMBER_OF_EPOCHS,\n",
        "    validation_data = (images_test, labels_test_onehot),  \n",
        "    verbose=1)"
      ],
      "execution_count": 53,
      "outputs": [
        {
          "output_type": "stream",
          "text": [
            "Epoch 1/50\n",
            "92/92 [==============================] - 39s 60ms/step - loss: 7.2153 - categorical_accuracy: 0.3913 - val_loss: 1.2076 - val_categorical_accuracy: 0.2849\n",
            "Epoch 2/50\n",
            "92/92 [==============================] - 4s 48ms/step - loss: 0.5150 - categorical_accuracy: 0.7859 - val_loss: 1.7800 - val_categorical_accuracy: 0.1823\n",
            "Epoch 3/50\n",
            "92/92 [==============================] - 4s 48ms/step - loss: 0.2432 - categorical_accuracy: 0.9159 - val_loss: 1.9906 - val_categorical_accuracy: 0.2664\n",
            "Epoch 4/50\n",
            "92/92 [==============================] - 4s 48ms/step - loss: 0.1902 - categorical_accuracy: 0.9352 - val_loss: 1.6228 - val_categorical_accuracy: 0.3846\n",
            "Epoch 5/50\n",
            "92/92 [==============================] - 4s 48ms/step - loss: 0.1382 - categorical_accuracy: 0.9568 - val_loss: 2.1498 - val_categorical_accuracy: 0.3077\n",
            "Epoch 6/50\n",
            "92/92 [==============================] - 4s 49ms/step - loss: 0.0972 - categorical_accuracy: 0.9639 - val_loss: 1.9278 - val_categorical_accuracy: 0.3276\n",
            "Epoch 7/50\n",
            "92/92 [==============================] - 5s 49ms/step - loss: 0.1040 - categorical_accuracy: 0.9614 - val_loss: 2.3714 - val_categorical_accuracy: 0.3476\n",
            "Epoch 8/50\n",
            "92/92 [==============================] - 5s 50ms/step - loss: 0.0943 - categorical_accuracy: 0.9703 - val_loss: 2.1998 - val_categorical_accuracy: 0.3248\n",
            "Epoch 9/50\n",
            "92/92 [==============================] - 5s 50ms/step - loss: 0.0690 - categorical_accuracy: 0.9761 - val_loss: 3.3151 - val_categorical_accuracy: 0.3319\n",
            "Epoch 10/50\n",
            "92/92 [==============================] - 5s 50ms/step - loss: 0.0662 - categorical_accuracy: 0.9760 - val_loss: 3.6827 - val_categorical_accuracy: 0.4017\n",
            "Epoch 11/50\n",
            "92/92 [==============================] - 5s 50ms/step - loss: 0.1042 - categorical_accuracy: 0.9716 - val_loss: 2.3836 - val_categorical_accuracy: 0.4359\n",
            "Epoch 12/50\n",
            "92/92 [==============================] - 5s 51ms/step - loss: 0.0613 - categorical_accuracy: 0.9781 - val_loss: 3.1444 - val_categorical_accuracy: 0.3974\n",
            "Epoch 13/50\n",
            "92/92 [==============================] - 5s 51ms/step - loss: 0.0690 - categorical_accuracy: 0.9765 - val_loss: 2.7402 - val_categorical_accuracy: 0.3533\n",
            "Epoch 14/50\n",
            "92/92 [==============================] - 5s 51ms/step - loss: 0.0560 - categorical_accuracy: 0.9788 - val_loss: 3.2580 - val_categorical_accuracy: 0.4074\n",
            "Epoch 15/50\n",
            "92/92 [==============================] - 5s 52ms/step - loss: 0.0577 - categorical_accuracy: 0.9795 - val_loss: 2.8259 - val_categorical_accuracy: 0.4359\n",
            "Epoch 16/50\n",
            "92/92 [==============================] - 5s 51ms/step - loss: 0.0462 - categorical_accuracy: 0.9836 - val_loss: 4.0940 - val_categorical_accuracy: 0.3875\n",
            "Epoch 17/50\n",
            "92/92 [==============================] - 5s 52ms/step - loss: 0.0495 - categorical_accuracy: 0.9825 - val_loss: 4.4091 - val_categorical_accuracy: 0.3447\n",
            "Epoch 18/50\n",
            "92/92 [==============================] - 5s 52ms/step - loss: 0.0550 - categorical_accuracy: 0.9807 - val_loss: 2.8924 - val_categorical_accuracy: 0.4060\n",
            "Epoch 19/50\n",
            "92/92 [==============================] - 5s 52ms/step - loss: 0.0384 - categorical_accuracy: 0.9868 - val_loss: 3.9754 - val_categorical_accuracy: 0.3675\n",
            "Epoch 20/50\n",
            "92/92 [==============================] - 5s 52ms/step - loss: 0.0311 - categorical_accuracy: 0.9894 - val_loss: 4.6203 - val_categorical_accuracy: 0.3433\n",
            "Epoch 21/50\n",
            "92/92 [==============================] - 5s 51ms/step - loss: 0.0558 - categorical_accuracy: 0.9859 - val_loss: 4.6206 - val_categorical_accuracy: 0.4074\n",
            "Epoch 22/50\n",
            "92/92 [==============================] - 5s 52ms/step - loss: 0.0430 - categorical_accuracy: 0.9856 - val_loss: 3.9103 - val_categorical_accuracy: 0.3932\n",
            "Epoch 23/50\n",
            "92/92 [==============================] - 5s 51ms/step - loss: 0.0247 - categorical_accuracy: 0.9926 - val_loss: 5.8918 - val_categorical_accuracy: 0.3846\n",
            "Epoch 24/50\n",
            "92/92 [==============================] - 5s 51ms/step - loss: 0.0341 - categorical_accuracy: 0.9865 - val_loss: 4.4243 - val_categorical_accuracy: 0.4373\n",
            "Epoch 25/50\n",
            "92/92 [==============================] - 5s 51ms/step - loss: 0.0413 - categorical_accuracy: 0.9857 - val_loss: 5.8786 - val_categorical_accuracy: 0.4160\n",
            "Epoch 26/50\n",
            "92/92 [==============================] - 5s 51ms/step - loss: 0.0256 - categorical_accuracy: 0.9911 - val_loss: 6.1042 - val_categorical_accuracy: 0.4074\n",
            "Epoch 27/50\n",
            "92/92 [==============================] - 5s 51ms/step - loss: 0.0349 - categorical_accuracy: 0.9862 - val_loss: 4.7465 - val_categorical_accuracy: 0.4302\n",
            "Epoch 28/50\n",
            "92/92 [==============================] - 5s 51ms/step - loss: 0.0327 - categorical_accuracy: 0.9878 - val_loss: 3.6946 - val_categorical_accuracy: 0.3575\n",
            "Epoch 29/50\n",
            "92/92 [==============================] - 5s 51ms/step - loss: 0.0282 - categorical_accuracy: 0.9911 - val_loss: 4.0135 - val_categorical_accuracy: 0.3490\n",
            "Epoch 30/50\n",
            "92/92 [==============================] - 5s 51ms/step - loss: 0.0340 - categorical_accuracy: 0.9872 - val_loss: 5.3755 - val_categorical_accuracy: 0.3946\n",
            "Epoch 31/50\n",
            "92/92 [==============================] - 5s 51ms/step - loss: 0.0267 - categorical_accuracy: 0.9906 - val_loss: 3.9514 - val_categorical_accuracy: 0.4160\n",
            "Epoch 32/50\n",
            "92/92 [==============================] - 5s 51ms/step - loss: 0.0205 - categorical_accuracy: 0.9934 - val_loss: 6.8019 - val_categorical_accuracy: 0.4359\n",
            "Epoch 33/50\n",
            "92/92 [==============================] - 5s 51ms/step - loss: 0.0185 - categorical_accuracy: 0.9929 - val_loss: 7.1234 - val_categorical_accuracy: 0.4131\n",
            "Epoch 34/50\n",
            "92/92 [==============================] - 5s 51ms/step - loss: 0.0124 - categorical_accuracy: 0.9962 - val_loss: 6.0897 - val_categorical_accuracy: 0.4003\n",
            "Epoch 35/50\n",
            "92/92 [==============================] - 5s 51ms/step - loss: 0.0274 - categorical_accuracy: 0.9920 - val_loss: 6.4269 - val_categorical_accuracy: 0.3875\n",
            "Epoch 36/50\n",
            "92/92 [==============================] - 5s 52ms/step - loss: 0.0334 - categorical_accuracy: 0.9879 - val_loss: 13.1684 - val_categorical_accuracy: 0.4416\n",
            "Epoch 37/50\n",
            "92/92 [==============================] - 5s 51ms/step - loss: 0.0676 - categorical_accuracy: 0.9782 - val_loss: 4.0157 - val_categorical_accuracy: 0.3490\n",
            "Epoch 38/50\n",
            "92/92 [==============================] - 5s 50ms/step - loss: 257.9839 - categorical_accuracy: 0.9181 - val_loss: 38691.4141 - val_categorical_accuracy: 0.1695\n",
            "Epoch 39/50\n",
            "92/92 [==============================] - 5s 49ms/step - loss: 259.4234 - categorical_accuracy: 0.8770 - val_loss: 646.4307 - val_categorical_accuracy: 0.4088\n",
            "Epoch 40/50\n",
            "92/92 [==============================] - 5s 49ms/step - loss: 11.4516 - categorical_accuracy: 0.8898 - val_loss: 234.7410 - val_categorical_accuracy: 0.4558\n",
            "Epoch 41/50\n",
            "92/92 [==============================] - 5s 50ms/step - loss: 6.5507 - categorical_accuracy: 0.8837 - val_loss: 171.5491 - val_categorical_accuracy: 0.4758\n",
            "Epoch 42/50\n",
            "92/92 [==============================] - 5s 50ms/step - loss: 4.9595 - categorical_accuracy: 0.8844 - val_loss: 156.2018 - val_categorical_accuracy: 0.3989\n",
            "Epoch 43/50\n",
            "92/92 [==============================] - 5s 50ms/step - loss: 3.3921 - categorical_accuracy: 0.8975 - val_loss: 219.3456 - val_categorical_accuracy: 0.2521\n",
            "Epoch 44/50\n",
            "92/92 [==============================] - 5s 50ms/step - loss: 2.5727 - categorical_accuracy: 0.8955 - val_loss: 80.8566 - val_categorical_accuracy: 0.2906\n",
            "Epoch 45/50\n",
            "92/92 [==============================] - 5s 50ms/step - loss: 2.0323 - categorical_accuracy: 0.9022 - val_loss: 75.2396 - val_categorical_accuracy: 0.4160\n",
            "Epoch 46/50\n",
            "92/92 [==============================] - 5s 51ms/step - loss: 1.2881 - categorical_accuracy: 0.9128 - val_loss: 63.6034 - val_categorical_accuracy: 0.4103\n",
            "Epoch 47/50\n",
            "92/92 [==============================] - 5s 50ms/step - loss: 1.0066 - categorical_accuracy: 0.9130 - val_loss: 66.3537 - val_categorical_accuracy: 0.4188\n",
            "Epoch 48/50\n",
            "92/92 [==============================] - 5s 50ms/step - loss: 1.3189 - categorical_accuracy: 0.8937 - val_loss: 122.5405 - val_categorical_accuracy: 0.1268\n",
            "Epoch 49/50\n",
            "92/92 [==============================] - 5s 50ms/step - loss: 0.9202 - categorical_accuracy: 0.9158 - val_loss: 85.3995 - val_categorical_accuracy: 0.3362\n",
            "Epoch 50/50\n",
            "92/92 [==============================] - 5s 50ms/step - loss: 0.9832 - categorical_accuracy: 0.9044 - val_loss: 212.4950 - val_categorical_accuracy: 0.2293\n"
          ],
          "name": "stdout"
        }
      ]
    },
    {
      "cell_type": "markdown",
      "metadata": {
        "id": "-Kem9tr28MX7"
      },
      "source": [
        "### 4.5.3 Test the CNN\n",
        "Once the model has been fitted, the precision is calculated through a classical one vs many **confusion matrix**."
      ]
    },
    {
      "cell_type": "code",
      "metadata": {
        "id": "gnuXHtRyVoiM"
      },
      "source": [
        "labels_predicted = np.argmax(history.model.predict(images_test), axis=-1)"
      ],
      "execution_count": 54,
      "outputs": []
    },
    {
      "cell_type": "code",
      "metadata": {
        "id": "ZWzhCphFDTvz",
        "colab": {
          "base_uri": "https://localhost:8080/"
        },
        "outputId": "5fcf99c1-ba1d-432a-b2a8-120364991399"
      },
      "source": [
        "# for the confusion matrix we need a factorized labels \n",
        "# [1,0,0] -> 0 (\"N\")\n",
        "# [0,1,0] -> 1 (\"IR\")\n",
        "# [0,0,1] -> 2 (\"OR\") \n",
        "\n",
        "labels_test_factorized = [(1*label[0]+2*label[1]+3*label[2])-1 for label in labels_test_onehot]\n",
        "\n",
        "from sklearn.metrics import classification_report\n",
        "print(classification_report(labels_test_factorized, labels_predicted))"
      ],
      "execution_count": 55,
      "outputs": [
        {
          "output_type": "stream",
          "text": [
            "              precision    recall  f1-score   support\n",
            "\n",
            "           0       0.21      0.67      0.32       162\n",
            "           1       0.00      0.00      0.00       189\n",
            "           2       0.87      0.15      0.26       351\n",
            "\n",
            "    accuracy                           0.23       702\n",
            "   macro avg       0.36      0.27      0.19       702\n",
            "weighted avg       0.48      0.23      0.20       702\n",
            "\n"
          ],
          "name": "stdout"
        }
      ]
    },
    {
      "cell_type": "markdown",
      "metadata": {
        "id": "VzNvQ5tmS8ti"
      },
      "source": [
        "# 5.Final Train-Test loss and accuracy\n",
        "Validation here is part of the test data."
      ]
    },
    {
      "cell_type": "code",
      "metadata": {
        "id": "wTc0PHJp2bqR",
        "colab": {
          "base_uri": "https://localhost:8080/",
          "height": 591
        },
        "outputId": "e6244a54-ed44-4f89-c72c-17c44be1ad6e"
      },
      "source": [
        "import matplotlib.pyplot as plt\n",
        "\n",
        "# list all data in history\n",
        "print(history.history.keys())\n",
        "\n",
        "# summarize history for accuracy\n",
        "plt.plot(history.history['categorical_accuracy'])\n",
        "plt.plot(history.history['val_categorical_accuracy'])\n",
        "plt.title('model accuracy')\n",
        "plt.ylabel('accuracy')\n",
        "plt.xlabel('epoch')\n",
        "plt.legend(['train', 'test'], loc='upper left')\n",
        "plt.show()\n",
        "\n",
        "# summarize history for loss\n",
        "plt.plot(history.history['loss'])\n",
        "plt.plot(history.history['val_loss'])\n",
        "plt.title('model loss')\n",
        "plt.ylabel('loss')\n",
        "plt.xlabel('epoch')\n",
        "plt.legend(['train', 'test'], loc='upper left')\n",
        "plt.show()"
      ],
      "execution_count": 56,
      "outputs": [
        {
          "output_type": "stream",
          "text": [
            "dict_keys(['loss', 'categorical_accuracy', 'val_loss', 'val_categorical_accuracy'])\n"
          ],
          "name": "stdout"
        },
        {
          "output_type": "display_data",
          "data": {
            "image/png": "[encoded data removed]",
            "text/plain": [
              "<Figure size 432x288 with 1 Axes>"
            ]
          },
          "metadata": {
            "tags": [],
            "needs_background": "light"
          }
        },
        {
          "output_type": "display_data",
          "data": {
            "image/png": "[encoded data removed]",
            "text/plain": [
              "<Figure size 432x288 with 1 Axes>"
            ]
          },
          "metadata": {
            "tags": [],
            "needs_background": "light"
          }
        }
      ]
    },
    {
      "cell_type": "markdown",
      "metadata": {
        "id": "6orDA2QcVoiQ"
      },
      "source": [
        "# 6.ROC analysis\n",
        "The ROC curves for each class give a complete picture of the classification performance of the CNN. The function below performs this task."
      ]
    },
    {
      "cell_type": "code",
      "metadata": {
        "id": "Bpj_7PNassoY"
      },
      "source": [
        "def ROC(model, X_test, y_test, n_class):\n",
        "    import seaborn as sns\n",
        "    from sklearn.metrics import roc_curve, roc_auc_score, auc\n",
        "    from sklearn.metrics import confusion_matrix, classification_report\n",
        "    from sklearn.metrics import accuracy_score, balanced_accuracy_score\n",
        "    from sklearn.preprocessing import label_binarize\n",
        "    from itertools import cycle\n",
        "    import matplotlib.pyplot as plt\n",
        "    import pandas as pd\n",
        "    \n",
        "    \n",
        "    sns.set_style(\"dark\",{\"axes.facecolor\": \".97\"})\n",
        "    # Predict the labels of the test set: y_pred\n",
        "    y_pred = np.argmax(model.predict(X_test), axis=-1)\n",
        "\n",
        "    # Compute predicted probabilities: y_pred_prob\n",
        "    y_pred_prob = model.predict(X_test)\n",
        "    y_test_binary = label_binarize(y_test, classes=range(0, n_class))\n",
        "\n",
        "    y_test_normal = y_test_binary[:, 0]\n",
        "    y_prob_normal = y_pred_prob[:, 0]\n",
        "\n",
        "    y_test_inner_race = y_test_binary[:, 1]\n",
        "    y_prob_inner_race = y_pred_prob[:, 1]\n",
        "\n",
        "    y_test_outer_race = y_test_binary[:, 2]\n",
        "    y_prob_outer_race = y_pred_prob[:, 2]\n",
        "    \n",
        "    lw = 1.5\n",
        "    \n",
        "    #Compute and print the confusion matrix and classification report\n",
        "    matrix_c = confusion_matrix(y_test, y_pred)\n",
        "    category_labels = ['N','IR','OR']\n",
        "\n",
        "    matrix = pd.DataFrame(matrix_c)\n",
        "    plt.figure()\n",
        "    sns.heatmap(matrix, annot= True, fmt = \"d\",\n",
        "           xticklabels = category_labels,\n",
        "           yticklabels = category_labels, cmap = \"Blues\", cbar = False)\n",
        "    plt.xticks(rotation = 90)\n",
        "    plt.show()\n",
        "\n",
        "    # Compute accuracy score\n",
        "    print(\"accuracy score: \", accuracy_score(y_test, y_pred))\n",
        "    print(\"Number of correctly Classified Samples: \", accuracy_score(y_test, y_pred, normalize=False))\n",
        "    print(\"balanced accuracy score: \", balanced_accuracy_score(y_test, y_pred))\n",
        "\n",
        "\n",
        "    # Compute ROC curve and ROC area for each class\n",
        "\n",
        "    fpr = dict()\n",
        "    tpr = dict()\n",
        "    thresholds = dict()\n",
        "    roc_auc = dict()\n",
        "\n",
        "    fpr[0], tpr[0], thresholds[0] = roc_curve(y_test_normal, y_prob_normal)\n",
        "    fpr[1], tpr[1], thresholds[1] = roc_curve(y_test_inner_race, y_prob_inner_race)\n",
        "    fpr[2], tpr[2], thresholds[2] = roc_curve(y_test_outer_race, y_prob_outer_race)\n",
        "\n",
        "    for i in range(3):\n",
        "      roc_auc[i] = auc(fpr[i], tpr[i])\n",
        "\n",
        "    # Plot all ROC curves\n",
        "    plt.figure(figsize=(4, 4), dpi=150)\n",
        "\n",
        "    colors = ['black', 'red', 'green']\n",
        "    plot_labels = ['N','IR','OR']\n",
        "    for item in list(enumerate(colors)):\n",
        "      # \"N\", \"IR\", \"OR\"\n",
        "      plt.plot(fpr[item[0]], tpr[item[0]], color=item[1], lw=lw,\n",
        "                 label='ROC curve of class {0} (area = {1:0.2f})'\n",
        "                       ''.format(plot_labels[item[0]], roc_auc[item[0]]))\n",
        "\n",
        "    plt.plot([0, 1], [0, 1], 'k--', lw=.7)\n",
        "    plt.xlim([0.0, 1.0])\n",
        "    plt.ylim([0.0, 1.05])\n",
        "    plt.xlabel('False Positive Rate')\n",
        "    plt.ylabel('True Positive Rate')\n",
        "    plt.legend(loc=\"lower right\", prop={'size': 8})\n",
        "    plt.show()\n",
        "\n"
      ],
      "execution_count": 57,
      "outputs": []
    },
    {
      "cell_type": "markdown",
      "metadata": {
        "id": "2uOHqZT8nyJF"
      },
      "source": [
        "### 6.1 ROC curve, Confusion matrix and accuracies"
      ]
    },
    {
      "cell_type": "code",
      "metadata": {
        "id": "7eZKquzXVoiT",
        "colab": {
          "base_uri": "https://localhost:8080/",
          "height": 870
        },
        "outputId": "9ee460ec-4b50-49c6-f8a8-92a636137e3a"
      },
      "source": [
        "ROC(history.model, images_test, labels_test_factorized, 3)"
      ],
      "execution_count": 58,
      "outputs": [
        {
          "output_type": "display_data",
          "data": {
            "image/png": "[encoded data removed]",
            "text/plain": [
              "<Figure size 432x288 with 1 Axes>"
            ]
          },
          "metadata": {
            "tags": []
          }
        },
        {
          "output_type": "stream",
          "text": [
            "accuracy score:  0.22934472934472935\n",
            "Number of correctly Classified Samples:  161\n",
            "balanced accuracy score:  0.27255460588793917\n"
          ],
          "name": "stdout"
        },
        {
          "output_type": "display_data",
          "data": {
            "image/png": "[encoded data removed]",
            "text/plain": [
              "<Figure size 600x600 with 1 Axes>"
            ]
          },
          "metadata": {
            "tags": []
          }
        }
      ]
    }
  ]
}